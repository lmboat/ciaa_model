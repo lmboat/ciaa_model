{
 "cells": [
  {
   "cell_type": "markdown",
   "id": "1c24931e-34f0-4b2a-9da7-decffcc5c817",
   "metadata": {},
   "source": [
    "# Set Up Environment"
   ]
  },
  {
   "cell_type": "code",
   "execution_count": 1,
   "id": "9cbbc65d-fd0c-4ae2-b166-b1e4bafb3b4c",
   "metadata": {},
   "outputs": [],
   "source": [
    "import os, sys, argparse\n",
    "import numpy as np \n",
    "import pandas as pd\n",
    "from matplotlib import pyplot as plt\n",
    "from matplotlib.pyplot import figure\n",
    "from matplotlib import cm\n",
    "from matplotlib.colors import ListedColormap\n",
    "import matplotlib.colors as colors\n",
    "import seaborn as sns"
   ]
  },
  {
   "cell_type": "markdown",
   "id": "44179695-b2ed-4265-accf-8bcfe83d0d27",
   "metadata": {},
   "source": [
    "# "
   ]
  },
  {
   "cell_type": "markdown",
   "id": "e882bb25-c369-47c8-bb8f-3a9292a93ea5",
   "metadata": {},
   "source": [
    "# Define Functions"
   ]
  },
  {
   "cell_type": "code",
   "execution_count": 2,
   "id": "e50c54fc-7b31-48a5-8d25-a7d13d04690b",
   "metadata": {},
   "outputs": [],
   "source": [
    "def get_count_df(df, aa_col, cols, vals):\n",
    "    \n",
    "    counts = []\n",
    "    \n",
    "    for i in range(len(cols)):\n",
    "        current_col = cols[i]\n",
    "        current_df = df[df[current_col] == vals[i]]\n",
    "        counts.append(len(current_df[aa_col].unique()))\n",
    "        \n",
    "    return counts"
   ]
  },
  {
   "cell_type": "code",
   "execution_count": 3,
   "id": "737c89e3",
   "metadata": {},
   "outputs": [],
   "source": [
    "def get_normalized_functions(df, aa_col, cols, vals, labels):\n",
    "    \n",
    "    subset_df = df[[aa_col] + cols] \n",
    "    \n",
    "    subset_df = subset_df.drop_duplicates()\n",
    "    \n",
    "    subset_counts = get_count_df(subset_df, aa_col, cols, vals)\n",
    "    \n",
    "    count_df = pd.DataFrame()\n",
    "    count_df['Function'] = labels\n",
    "    count_df['Count'] = subset_counts\n",
    "    count_df['Percent'] = count_df['Count'].map(lambda x: (float(x)/sum(subset_counts))*100)\n",
    "    \n",
    "    return count_df"
   ]
  },
  {
   "cell_type": "code",
   "execution_count": 4,
   "id": "9da84d99-2fd9-428c-85ef-65d07fa0ef56",
   "metadata": {},
   "outputs": [],
   "source": [
    "def get_new_grouped_bar_plot_h(df, xcol, ycol, ylabel, name, colors, sz, ylim):\n",
    "    \n",
    "    fig = plt.figure(figsize =(8, 6))\n",
    "    \n",
    "    sns.barplot(data=df, x=xcol, y=ycol, palette = colors, hue = 'Reactivity')\n",
    "    \n",
    "    plt.ylabel(ycol, size = sz)\n",
    "    plt.xlabel(ylabel, size = sz)    \n",
    "    plt.yticks(size = sz) \n",
    "    plt.xticks(size = sz)\n",
    "\n",
    "    plt.legend(frameon = False, loc = 'upper right', fontsize = 20, title = 'Reactivity', title_fontsize = 20)\n",
    "\n",
    "    plt.show()"
   ]
  },
  {
   "cell_type": "markdown",
   "id": "0b190b29",
   "metadata": {},
   "source": [
    "# "
   ]
  },
  {
   "cell_type": "markdown",
   "id": "cf0e7ce4",
   "metadata": {},
   "source": [
    "# Read isoTOP Residue Function Annotations"
   ]
  },
  {
   "cell_type": "code",
   "execution_count": 5,
   "id": "aabce560-587c-46bc-851d-03957630fe74",
   "metadata": {},
   "outputs": [],
   "source": [
    "df = pd.read_csv('../data/isotop_residue_function.csv')"
   ]
  },
  {
   "cell_type": "code",
   "execution_count": 6,
   "id": "79ccbefc-949d-49ba-bad0-4d22455b7446",
   "metadata": {},
   "outputs": [
    {
     "data": {
      "text/plain": [
       "(9783, 50)"
      ]
     },
     "execution_count": 6,
     "metadata": {},
     "output_type": "execute_result"
    }
   ],
   "source": [
    "df.shape"
   ]
  },
  {
   "cell_type": "code",
   "execution_count": 7,
   "id": "5cd5b676-5364-4b16-bf1c-bc1766cda6b5",
   "metadata": {},
   "outputs": [
    {
     "data": {
      "text/html": [
       "<div>\n",
       "<style scoped>\n",
       "    .dataframe tbody tr th:only-of-type {\n",
       "        vertical-align: middle;\n",
       "    }\n",
       "\n",
       "    .dataframe tbody tr th {\n",
       "        vertical-align: top;\n",
       "    }\n",
       "\n",
       "    .dataframe thead th {\n",
       "        text-align: right;\n",
       "    }\n",
       "</style>\n",
       "<table border=\"1\" class=\"dataframe\">\n",
       "  <thead>\n",
       "    <tr style=\"text-align: right;\">\n",
       "      <th></th>\n",
       "      <th>identifier</th>\n",
       "      <th>protein</th>\n",
       "      <th>description</th>\n",
       "      <th>peptides</th>\n",
       "      <th>gene</th>\n",
       "      <th>2022_count</th>\n",
       "      <th>2019_count</th>\n",
       "      <th>2010_count</th>\n",
       "      <th>experiment_count</th>\n",
       "      <th>isotop-3_median</th>\n",
       "      <th>...</th>\n",
       "      <th>active_region</th>\n",
       "      <th>as_category</th>\n",
       "      <th>binding_region</th>\n",
       "      <th>bs_category</th>\n",
       "      <th>disordered</th>\n",
       "      <th>disulfide</th>\n",
       "      <th>redox</th>\n",
       "      <th>metal_binding</th>\n",
       "      <th>zinc_binding</th>\n",
       "      <th>zinc_finger</th>\n",
       "    </tr>\n",
       "  </thead>\n",
       "  <tbody>\n",
       "    <tr>\n",
       "      <th>0</th>\n",
       "      <td>Q5SRE5_C9</td>\n",
       "      <td>Q5SRE5</td>\n",
       "      <td>Nucleoporin NUP188 homolog</td>\n",
       "      <td>AAAAGGPC*VR</td>\n",
       "      <td>NUP188</td>\n",
       "      <td>13.0</td>\n",
       "      <td>NaN</td>\n",
       "      <td>NaN</td>\n",
       "      <td>13</td>\n",
       "      <td>3.537341</td>\n",
       "      <td>...</td>\n",
       "      <td>NaN</td>\n",
       "      <td>NaN</td>\n",
       "      <td>NaN</td>\n",
       "      <td>NaN</td>\n",
       "      <td>NaN</td>\n",
       "      <td>NaN</td>\n",
       "      <td>NaN</td>\n",
       "      <td>NaN</td>\n",
       "      <td>NaN</td>\n",
       "      <td>NaN</td>\n",
       "    </tr>\n",
       "    <tr>\n",
       "      <th>1</th>\n",
       "      <td>Q9NRL3_C17</td>\n",
       "      <td>Q9NRL3</td>\n",
       "      <td>Striatin-4</td>\n",
       "      <td>AAAAVAAAASSC*RPLGSGAGPGPTGAAPVSAPAPGPGPAGK</td>\n",
       "      <td>STRN4</td>\n",
       "      <td>7.0</td>\n",
       "      <td>NaN</td>\n",
       "      <td>NaN</td>\n",
       "      <td>7</td>\n",
       "      <td>NaN</td>\n",
       "      <td>...</td>\n",
       "      <td>NaN</td>\n",
       "      <td>NaN</td>\n",
       "      <td>NaN</td>\n",
       "      <td>NaN</td>\n",
       "      <td>NaN</td>\n",
       "      <td>NaN</td>\n",
       "      <td>NaN</td>\n",
       "      <td>NaN</td>\n",
       "      <td>NaN</td>\n",
       "      <td>NaN</td>\n",
       "    </tr>\n",
       "    <tr>\n",
       "      <th>2</th>\n",
       "      <td>Q96C19_C172</td>\n",
       "      <td>Q96C19</td>\n",
       "      <td>EF-hand domain-containing protein D2</td>\n",
       "      <td>KAAAGELQEDSGLC*VLAR;AAAGELQEDSGLC*VLAR</td>\n",
       "      <td>EFHD2</td>\n",
       "      <td>13.0</td>\n",
       "      <td>5.0</td>\n",
       "      <td>1.0</td>\n",
       "      <td>19</td>\n",
       "      <td>2.250133</td>\n",
       "      <td>...</td>\n",
       "      <td>NaN</td>\n",
       "      <td>NaN</td>\n",
       "      <td>NaN</td>\n",
       "      <td>NaN</td>\n",
       "      <td>NaN</td>\n",
       "      <td>NaN</td>\n",
       "      <td>NaN</td>\n",
       "      <td>NaN</td>\n",
       "      <td>NaN</td>\n",
       "      <td>NaN</td>\n",
       "    </tr>\n",
       "    <tr>\n",
       "      <th>3</th>\n",
       "      <td>P0DMV8_C17</td>\n",
       "      <td>P0DMV8</td>\n",
       "      <td>Heat shock 70 kDa protein 1A</td>\n",
       "      <td>AAAIGIDLGTTYSC*VGVFQHGK;AAAIGIDLGTTYSC*VGVFQHG...</td>\n",
       "      <td>HSPA1A</td>\n",
       "      <td>13.0</td>\n",
       "      <td>NaN</td>\n",
       "      <td>NaN</td>\n",
       "      <td>13</td>\n",
       "      <td>10.980129</td>\n",
       "      <td>...</td>\n",
       "      <td>NaN</td>\n",
       "      <td>NaN</td>\n",
       "      <td>NaN</td>\n",
       "      <td>yes</td>\n",
       "      <td>NaN</td>\n",
       "      <td>NaN</td>\n",
       "      <td>NaN</td>\n",
       "      <td>NaN</td>\n",
       "      <td>NaN</td>\n",
       "      <td>NaN</td>\n",
       "    </tr>\n",
       "    <tr>\n",
       "      <th>4</th>\n",
       "      <td>P20810_C408</td>\n",
       "      <td>P20810</td>\n",
       "      <td>Calpastatin</td>\n",
       "      <td>AAAPAPVSEAVC*R</td>\n",
       "      <td>CAST</td>\n",
       "      <td>13.0</td>\n",
       "      <td>NaN</td>\n",
       "      <td>NaN</td>\n",
       "      <td>13</td>\n",
       "      <td>3.719817</td>\n",
       "      <td>...</td>\n",
       "      <td>NaN</td>\n",
       "      <td>NaN</td>\n",
       "      <td>NaN</td>\n",
       "      <td>NaN</td>\n",
       "      <td>NaN</td>\n",
       "      <td>NaN</td>\n",
       "      <td>NaN</td>\n",
       "      <td>NaN</td>\n",
       "      <td>NaN</td>\n",
       "      <td>NaN</td>\n",
       "    </tr>\n",
       "    <tr>\n",
       "      <th>...</th>\n",
       "      <td>...</td>\n",
       "      <td>...</td>\n",
       "      <td>...</td>\n",
       "      <td>...</td>\n",
       "      <td>...</td>\n",
       "      <td>...</td>\n",
       "      <td>...</td>\n",
       "      <td>...</td>\n",
       "      <td>...</td>\n",
       "      <td>...</td>\n",
       "      <td>...</td>\n",
       "      <td>...</td>\n",
       "      <td>...</td>\n",
       "      <td>...</td>\n",
       "      <td>...</td>\n",
       "      <td>...</td>\n",
       "      <td>...</td>\n",
       "      <td>...</td>\n",
       "      <td>...</td>\n",
       "      <td>...</td>\n",
       "      <td>...</td>\n",
       "    </tr>\n",
       "    <tr>\n",
       "      <th>9778</th>\n",
       "      <td>Q9UMR2_C393</td>\n",
       "      <td>Q9UMR2</td>\n",
       "      <td>DDX19B ATP-dependent RNA helicase DDX19B</td>\n",
       "      <td>VLVTTNVC*AR</td>\n",
       "      <td>NaN</td>\n",
       "      <td>NaN</td>\n",
       "      <td>NaN</td>\n",
       "      <td>2.0</td>\n",
       "      <td>2</td>\n",
       "      <td>NaN</td>\n",
       "      <td>...</td>\n",
       "      <td>NaN</td>\n",
       "      <td>NaN</td>\n",
       "      <td>NaN</td>\n",
       "      <td>NaN</td>\n",
       "      <td>NaN</td>\n",
       "      <td>NaN</td>\n",
       "      <td>NaN</td>\n",
       "      <td>NaN</td>\n",
       "      <td>NaN</td>\n",
       "      <td>NaN</td>\n",
       "    </tr>\n",
       "    <tr>\n",
       "      <th>9779</th>\n",
       "      <td>Q9Y365_C74</td>\n",
       "      <td>Q9Y365</td>\n",
       "      <td>STARD10 PCTP-like protein</td>\n",
       "      <td>MEC*CDVPAETLYDVLHDIEYR</td>\n",
       "      <td>NaN</td>\n",
       "      <td>NaN</td>\n",
       "      <td>NaN</td>\n",
       "      <td>2.0</td>\n",
       "      <td>2</td>\n",
       "      <td>NaN</td>\n",
       "      <td>...</td>\n",
       "      <td>NaN</td>\n",
       "      <td>NaN</td>\n",
       "      <td>NaN</td>\n",
       "      <td>NaN</td>\n",
       "      <td>NaN</td>\n",
       "      <td>NaN</td>\n",
       "      <td>NaN</td>\n",
       "      <td>NaN</td>\n",
       "      <td>NaN</td>\n",
       "      <td>NaN</td>\n",
       "    </tr>\n",
       "    <tr>\n",
       "      <th>9780</th>\n",
       "      <td>Q9Y365_C75</td>\n",
       "      <td>Q9Y365</td>\n",
       "      <td>STARD10 PCTP-like protein</td>\n",
       "      <td>MECC*DVPAETLYDVLHDIEYR</td>\n",
       "      <td>NaN</td>\n",
       "      <td>NaN</td>\n",
       "      <td>NaN</td>\n",
       "      <td>2.0</td>\n",
       "      <td>2</td>\n",
       "      <td>NaN</td>\n",
       "      <td>...</td>\n",
       "      <td>NaN</td>\n",
       "      <td>NaN</td>\n",
       "      <td>NaN</td>\n",
       "      <td>NaN</td>\n",
       "      <td>NaN</td>\n",
       "      <td>NaN</td>\n",
       "      <td>NaN</td>\n",
       "      <td>NaN</td>\n",
       "      <td>NaN</td>\n",
       "      <td>NaN</td>\n",
       "    </tr>\n",
       "    <tr>\n",
       "      <th>9781</th>\n",
       "      <td>Q9Y3F4_C340</td>\n",
       "      <td>Q9Y3F4</td>\n",
       "      <td>STRAP Serine-threonine kinase receptor-associa...</td>\n",
       "      <td>IGFPETTEEELEEIASENSDC*IFPSAPDVK</td>\n",
       "      <td>NaN</td>\n",
       "      <td>NaN</td>\n",
       "      <td>NaN</td>\n",
       "      <td>4.0</td>\n",
       "      <td>4</td>\n",
       "      <td>NaN</td>\n",
       "      <td>...</td>\n",
       "      <td>NaN</td>\n",
       "      <td>NaN</td>\n",
       "      <td>NaN</td>\n",
       "      <td>NaN</td>\n",
       "      <td>NaN</td>\n",
       "      <td>NaN</td>\n",
       "      <td>NaN</td>\n",
       "      <td>NaN</td>\n",
       "      <td>NaN</td>\n",
       "      <td>NaN</td>\n",
       "    </tr>\n",
       "    <tr>\n",
       "      <th>9782</th>\n",
       "      <td>Q9Y6E0_C89</td>\n",
       "      <td>Q9Y6E0</td>\n",
       "      <td>STK24 Serine/threonine-protein kinase 24</td>\n",
       "      <td>IIDLEEAEDEIEDIQQEITVLSQC*DSPYVTK</td>\n",
       "      <td>NaN</td>\n",
       "      <td>NaN</td>\n",
       "      <td>NaN</td>\n",
       "      <td>2.0</td>\n",
       "      <td>2</td>\n",
       "      <td>NaN</td>\n",
       "      <td>...</td>\n",
       "      <td>NaN</td>\n",
       "      <td>NaN</td>\n",
       "      <td>NaN</td>\n",
       "      <td>NaN</td>\n",
       "      <td>NaN</td>\n",
       "      <td>NaN</td>\n",
       "      <td>NaN</td>\n",
       "      <td>NaN</td>\n",
       "      <td>NaN</td>\n",
       "      <td>NaN</td>\n",
       "    </tr>\n",
       "  </tbody>\n",
       "</table>\n",
       "<p>9783 rows × 50 columns</p>\n",
       "</div>"
      ],
      "text/plain": [
       "       identifier protein                                        description  \\\n",
       "0       Q5SRE5_C9  Q5SRE5                         Nucleoporin NUP188 homolog   \n",
       "1      Q9NRL3_C17  Q9NRL3                                         Striatin-4   \n",
       "2     Q96C19_C172  Q96C19               EF-hand domain-containing protein D2   \n",
       "3      P0DMV8_C17  P0DMV8                       Heat shock 70 kDa protein 1A   \n",
       "4     P20810_C408  P20810                                        Calpastatin   \n",
       "...           ...     ...                                                ...   \n",
       "9778  Q9UMR2_C393  Q9UMR2          DDX19B ATP-dependent RNA helicase DDX19B    \n",
       "9779   Q9Y365_C74  Q9Y365                         STARD10 PCTP-like protein    \n",
       "9780   Q9Y365_C75  Q9Y365                         STARD10 PCTP-like protein    \n",
       "9781  Q9Y3F4_C340  Q9Y3F4  STRAP Serine-threonine kinase receptor-associa...   \n",
       "9782   Q9Y6E0_C89  Q9Y6E0          STK24 Serine/threonine-protein kinase 24    \n",
       "\n",
       "                                               peptides    gene  2022_count  \\\n",
       "0                                           AAAAGGPC*VR  NUP188        13.0   \n",
       "1            AAAAVAAAASSC*RPLGSGAGPGPTGAAPVSAPAPGPGPAGK   STRN4         7.0   \n",
       "2                KAAAGELQEDSGLC*VLAR;AAAGELQEDSGLC*VLAR   EFHD2        13.0   \n",
       "3     AAAIGIDLGTTYSC*VGVFQHGK;AAAIGIDLGTTYSC*VGVFQHG...  HSPA1A        13.0   \n",
       "4                                        AAAPAPVSEAVC*R    CAST        13.0   \n",
       "...                                                 ...     ...         ...   \n",
       "9778                                        VLVTTNVC*AR     NaN         NaN   \n",
       "9779                             MEC*CDVPAETLYDVLHDIEYR     NaN         NaN   \n",
       "9780                             MECC*DVPAETLYDVLHDIEYR     NaN         NaN   \n",
       "9781                    IGFPETTEEELEEIASENSDC*IFPSAPDVK     NaN         NaN   \n",
       "9782                   IIDLEEAEDEIEDIQQEITVLSQC*DSPYVTK     NaN         NaN   \n",
       "\n",
       "      2019_count  2010_count  experiment_count  isotop-3_median  ...  \\\n",
       "0            NaN         NaN                13         3.537341  ...   \n",
       "1            NaN         NaN                 7              NaN  ...   \n",
       "2            5.0         1.0                19         2.250133  ...   \n",
       "3            NaN         NaN                13        10.980129  ...   \n",
       "4            NaN         NaN                13         3.719817  ...   \n",
       "...          ...         ...               ...              ...  ...   \n",
       "9778         NaN         2.0                 2              NaN  ...   \n",
       "9779         NaN         2.0                 2              NaN  ...   \n",
       "9780         NaN         2.0                 2              NaN  ...   \n",
       "9781         NaN         4.0                 4              NaN  ...   \n",
       "9782         NaN         2.0                 2              NaN  ...   \n",
       "\n",
       "      active_region  as_category  binding_region  bs_category  disordered  \\\n",
       "0               NaN          NaN             NaN          NaN         NaN   \n",
       "1               NaN          NaN             NaN          NaN         NaN   \n",
       "2               NaN          NaN             NaN          NaN         NaN   \n",
       "3               NaN          NaN             NaN          yes         NaN   \n",
       "4               NaN          NaN             NaN          NaN         NaN   \n",
       "...             ...          ...             ...          ...         ...   \n",
       "9778            NaN          NaN             NaN          NaN         NaN   \n",
       "9779            NaN          NaN             NaN          NaN         NaN   \n",
       "9780            NaN          NaN             NaN          NaN         NaN   \n",
       "9781            NaN          NaN             NaN          NaN         NaN   \n",
       "9782            NaN          NaN             NaN          NaN         NaN   \n",
       "\n",
       "      disulfide  redox  metal_binding  zinc_binding  zinc_finger  \n",
       "0           NaN    NaN            NaN           NaN          NaN  \n",
       "1           NaN    NaN            NaN           NaN          NaN  \n",
       "2           NaN    NaN            NaN           NaN          NaN  \n",
       "3           NaN    NaN            NaN           NaN          NaN  \n",
       "4           NaN    NaN            NaN           NaN          NaN  \n",
       "...         ...    ...            ...           ...          ...  \n",
       "9778        NaN    NaN            NaN           NaN          NaN  \n",
       "9779        NaN    NaN            NaN           NaN          NaN  \n",
       "9780        NaN    NaN            NaN           NaN          NaN  \n",
       "9781        NaN    NaN            NaN           NaN          NaN  \n",
       "9782        NaN    NaN            NaN           NaN          NaN  \n",
       "\n",
       "[9783 rows x 50 columns]"
      ]
     },
     "execution_count": 7,
     "metadata": {},
     "output_type": "execute_result"
    }
   ],
   "source": [
    "df"
   ]
  },
  {
   "cell_type": "markdown",
   "id": "31d99720",
   "metadata": {},
   "source": [
    "# "
   ]
  },
  {
   "cell_type": "markdown",
   "id": "560e82c1-2ab5-4649-b611-f7b102b1e0bb",
   "metadata": {},
   "source": [
    "# Update List of Cysteines as Active and Binding Sites"
   ]
  },
  {
   "cell_type": "code",
   "execution_count": 8,
   "id": "d9f8c020",
   "metadata": {},
   "outputs": [],
   "source": [
    "as_df = df[(df['active_region'] == 'yes') | (df['as_category'] == 'yes')]\n",
    "as_ids = list(as_df['identifier'].unique())\n",
    "df['active_site'] = np.where(df['identifier'].isin(as_ids), 'yes', None)"
   ]
  },
  {
   "cell_type": "code",
   "execution_count": 9,
   "id": "16b26886",
   "metadata": {},
   "outputs": [],
   "source": [
    "bs_df = df[(df['binding_region'] == 'yes') | (df['metal_binding'] == 'yes') | (df['bs_category'] == 'yes')]\n",
    "bs_ids = list(bs_df['identifier'].unique())\n",
    "df['binding_site'] = np.where(df['identifier'].isin(bs_ids), 'yes', None)"
   ]
  },
  {
   "cell_type": "markdown",
   "id": "bcbacdcf-ab4a-41a0-be5e-b8fc5c541b33",
   "metadata": {},
   "source": [
    "# "
   ]
  },
  {
   "cell_type": "markdown",
   "id": "bc5bfa5f-252b-401a-9877-b759f8e183e8",
   "metadata": {},
   "source": [
    "# Update List of Cysteines without Functional Annotations"
   ]
  },
  {
   "cell_type": "code",
   "execution_count": 10,
   "id": "14da849d",
   "metadata": {},
   "outputs": [],
   "source": [
    "no_function_df = df[(df['active_site'] != 'yes') & (df['binding_site'] != 'yes') & (df['disordered'] != 'yes') & (df['disulfide'] != 'yes') & (df['redox'] != 'yes')]\n",
    "no_function_ids = list(no_function_df['identifier'].unique())\n",
    "df['unknown'] = np.where(df['identifier'].isin(no_function_ids), 'yes', None)"
   ]
  },
  {
   "cell_type": "markdown",
   "id": "10fcd18f-b614-4f0b-a429-62950cbf96b7",
   "metadata": {},
   "source": [
    "# "
   ]
  },
  {
   "cell_type": "markdown",
   "id": "14f9fcd6-b66a-4bd0-bb23-10e3688cd582",
   "metadata": {},
   "source": [
    "## Subset Cysteines by Reactivity "
   ]
  },
  {
   "cell_type": "code",
   "execution_count": 11,
   "id": "36da5d81-d154-4dd0-ac45-c0630ace3566",
   "metadata": {},
   "outputs": [],
   "source": [
    "h_df = df[df['mean'] <= 2.3]\n",
    "l_df = df[df['mean'] >= 10]\n",
    "m_df = df[(df['mean'] > 2.3) & (df['mean'] < 10)]"
   ]
  },
  {
   "cell_type": "markdown",
   "id": "122ec8bd-6049-4a47-8ade-62ac1d3059c3",
   "metadata": {},
   "source": [
    "# "
   ]
  },
  {
   "cell_type": "markdown",
   "id": "8fad6d18-45b4-4adf-985c-f5a40c4c0a1d",
   "metadata": {},
   "source": [
    "## Define Cysteines by Reactivity"
   ]
  },
  {
   "cell_type": "code",
   "execution_count": 12,
   "id": "c3835cc3",
   "metadata": {},
   "outputs": [],
   "source": [
    "def get_target(df):\n",
    "    vals = []\n",
    "    \n",
    "    for index, row in df.iterrows():\n",
    "        if row['mean'] <= 2.3:\n",
    "            vals.append('High')\n",
    "        elif row['mean'] >= 10:\n",
    "            vals.append('Low')\n",
    "        else:\n",
    "            vals.append('Medium')\n",
    "            \n",
    "    df['Reactivity'] = vals\n",
    "    \n",
    "    return df"
   ]
  },
  {
   "cell_type": "code",
   "execution_count": 13,
   "id": "62c61056",
   "metadata": {},
   "outputs": [],
   "source": [
    "df = get_target(df)"
   ]
  },
  {
   "cell_type": "markdown",
   "id": "959bd942-5990-4be9-ad05-3b047249ad67",
   "metadata": {},
   "source": [
    "# "
   ]
  },
  {
   "cell_type": "markdown",
   "id": "6cc3fb65-eced-46d5-ac8e-5884814b02cc",
   "metadata": {},
   "source": [
    "# Count Number of Cysteines in Each Functional Group"
   ]
  },
  {
   "cell_type": "code",
   "execution_count": 14,
   "id": "44d2efae-8120-4be8-ad80-f3c1efcbd67d",
   "metadata": {},
   "outputs": [],
   "source": [
    "function_cols = ['active_site', 'binding_site', 'disordered', 'disulfide', 'redox', 'unknown']\n",
    "function_labels = ['Active\\nSite', 'Binding\\nSite', 'Disordered\\nRegion', 'Disulfide\\nBond', 'Redox\\nActive', 'NA']\n",
    "function_vals = ['yes', 'yes', 'yes', 'yes', 'yes', 'yes']"
   ]
  },
  {
   "cell_type": "code",
   "execution_count": 15,
   "id": "4d8db54f",
   "metadata": {},
   "outputs": [
    {
     "data": {
      "text/html": [
       "<div>\n",
       "<style scoped>\n",
       "    .dataframe tbody tr th:only-of-type {\n",
       "        vertical-align: middle;\n",
       "    }\n",
       "\n",
       "    .dataframe tbody tr th {\n",
       "        vertical-align: top;\n",
       "    }\n",
       "\n",
       "    .dataframe thead th {\n",
       "        text-align: right;\n",
       "    }\n",
       "</style>\n",
       "<table border=\"1\" class=\"dataframe\">\n",
       "  <thead>\n",
       "    <tr style=\"text-align: right;\">\n",
       "      <th></th>\n",
       "      <th>Function</th>\n",
       "      <th>Count</th>\n",
       "      <th>Percent</th>\n",
       "    </tr>\n",
       "  </thead>\n",
       "  <tbody>\n",
       "    <tr>\n",
       "      <th>0</th>\n",
       "      <td>Active\\nSite</td>\n",
       "      <td>53</td>\n",
       "      <td>6.050228</td>\n",
       "    </tr>\n",
       "    <tr>\n",
       "      <th>1</th>\n",
       "      <td>Binding\\nSite</td>\n",
       "      <td>68</td>\n",
       "      <td>7.762557</td>\n",
       "    </tr>\n",
       "    <tr>\n",
       "      <th>2</th>\n",
       "      <td>Disordered\\nRegion</td>\n",
       "      <td>10</td>\n",
       "      <td>1.141553</td>\n",
       "    </tr>\n",
       "    <tr>\n",
       "      <th>3</th>\n",
       "      <td>Disulfide\\nBond</td>\n",
       "      <td>41</td>\n",
       "      <td>4.680365</td>\n",
       "    </tr>\n",
       "    <tr>\n",
       "      <th>4</th>\n",
       "      <td>Redox\\nActive</td>\n",
       "      <td>27</td>\n",
       "      <td>3.082192</td>\n",
       "    </tr>\n",
       "    <tr>\n",
       "      <th>5</th>\n",
       "      <td>NA</td>\n",
       "      <td>677</td>\n",
       "      <td>77.283105</td>\n",
       "    </tr>\n",
       "  </tbody>\n",
       "</table>\n",
       "</div>"
      ],
      "text/plain": [
       "             Function  Count    Percent\n",
       "0        Active\\nSite     53   6.050228\n",
       "1       Binding\\nSite     68   7.762557\n",
       "2  Disordered\\nRegion     10   1.141553\n",
       "3     Disulfide\\nBond     41   4.680365\n",
       "4       Redox\\nActive     27   3.082192\n",
       "5                  NA    677  77.283105"
      ]
     },
     "execution_count": 15,
     "metadata": {},
     "output_type": "execute_result"
    }
   ],
   "source": [
    "h_norm_function_df = get_normalized_functions(h_df, 'identifier', function_cols, function_vals, function_labels)\n",
    "h_norm_function_df"
   ]
  },
  {
   "cell_type": "code",
   "execution_count": 16,
   "id": "3a5d012c",
   "metadata": {},
   "outputs": [
    {
     "data": {
      "text/html": [
       "<div>\n",
       "<style scoped>\n",
       "    .dataframe tbody tr th:only-of-type {\n",
       "        vertical-align: middle;\n",
       "    }\n",
       "\n",
       "    .dataframe tbody tr th {\n",
       "        vertical-align: top;\n",
       "    }\n",
       "\n",
       "    .dataframe thead th {\n",
       "        text-align: right;\n",
       "    }\n",
       "</style>\n",
       "<table border=\"1\" class=\"dataframe\">\n",
       "  <thead>\n",
       "    <tr style=\"text-align: right;\">\n",
       "      <th></th>\n",
       "      <th>Function</th>\n",
       "      <th>Count</th>\n",
       "      <th>Percent</th>\n",
       "    </tr>\n",
       "  </thead>\n",
       "  <tbody>\n",
       "    <tr>\n",
       "      <th>0</th>\n",
       "      <td>Active\\nSite</td>\n",
       "      <td>137</td>\n",
       "      <td>1.702075</td>\n",
       "    </tr>\n",
       "    <tr>\n",
       "      <th>1</th>\n",
       "      <td>Binding\\nSite</td>\n",
       "      <td>663</td>\n",
       "      <td>8.237048</td>\n",
       "    </tr>\n",
       "    <tr>\n",
       "      <th>2</th>\n",
       "      <td>Disordered\\nRegion</td>\n",
       "      <td>81</td>\n",
       "      <td>1.006336</td>\n",
       "    </tr>\n",
       "    <tr>\n",
       "      <th>3</th>\n",
       "      <td>Disulfide\\nBond</td>\n",
       "      <td>74</td>\n",
       "      <td>0.919369</td>\n",
       "    </tr>\n",
       "    <tr>\n",
       "      <th>4</th>\n",
       "      <td>Redox\\nActive</td>\n",
       "      <td>16</td>\n",
       "      <td>0.198782</td>\n",
       "    </tr>\n",
       "    <tr>\n",
       "      <th>5</th>\n",
       "      <td>NA</td>\n",
       "      <td>7078</td>\n",
       "      <td>87.936390</td>\n",
       "    </tr>\n",
       "  </tbody>\n",
       "</table>\n",
       "</div>"
      ],
      "text/plain": [
       "             Function  Count    Percent\n",
       "0        Active\\nSite    137   1.702075\n",
       "1       Binding\\nSite    663   8.237048\n",
       "2  Disordered\\nRegion     81   1.006336\n",
       "3     Disulfide\\nBond     74   0.919369\n",
       "4       Redox\\nActive     16   0.198782\n",
       "5                  NA   7078  87.936390"
      ]
     },
     "execution_count": 16,
     "metadata": {},
     "output_type": "execute_result"
    }
   ],
   "source": [
    "m_norm_function_df = get_normalized_functions(m_df, 'identifier', function_cols, function_vals, function_labels)\n",
    "m_norm_function_df"
   ]
  },
  {
   "cell_type": "code",
   "execution_count": 17,
   "id": "079ae7cb",
   "metadata": {},
   "outputs": [
    {
     "data": {
      "text/html": [
       "<div>\n",
       "<style scoped>\n",
       "    .dataframe tbody tr th:only-of-type {\n",
       "        vertical-align: middle;\n",
       "    }\n",
       "\n",
       "    .dataframe tbody tr th {\n",
       "        vertical-align: top;\n",
       "    }\n",
       "\n",
       "    .dataframe thead th {\n",
       "        text-align: right;\n",
       "    }\n",
       "</style>\n",
       "<table border=\"1\" class=\"dataframe\">\n",
       "  <thead>\n",
       "    <tr style=\"text-align: right;\">\n",
       "      <th></th>\n",
       "      <th>Function</th>\n",
       "      <th>Count</th>\n",
       "      <th>Percent</th>\n",
       "    </tr>\n",
       "  </thead>\n",
       "  <tbody>\n",
       "    <tr>\n",
       "      <th>0</th>\n",
       "      <td>Active\\nSite</td>\n",
       "      <td>11</td>\n",
       "      <td>1.101101</td>\n",
       "    </tr>\n",
       "    <tr>\n",
       "      <th>1</th>\n",
       "      <td>Binding\\nSite</td>\n",
       "      <td>61</td>\n",
       "      <td>6.106106</td>\n",
       "    </tr>\n",
       "    <tr>\n",
       "      <th>2</th>\n",
       "      <td>Disordered\\nRegion</td>\n",
       "      <td>14</td>\n",
       "      <td>1.401401</td>\n",
       "    </tr>\n",
       "    <tr>\n",
       "      <th>3</th>\n",
       "      <td>Disulfide\\nBond</td>\n",
       "      <td>3</td>\n",
       "      <td>0.300300</td>\n",
       "    </tr>\n",
       "    <tr>\n",
       "      <th>4</th>\n",
       "      <td>Redox\\nActive</td>\n",
       "      <td>1</td>\n",
       "      <td>0.100100</td>\n",
       "    </tr>\n",
       "    <tr>\n",
       "      <th>5</th>\n",
       "      <td>NA</td>\n",
       "      <td>909</td>\n",
       "      <td>90.990991</td>\n",
       "    </tr>\n",
       "  </tbody>\n",
       "</table>\n",
       "</div>"
      ],
      "text/plain": [
       "             Function  Count    Percent\n",
       "0        Active\\nSite     11   1.101101\n",
       "1       Binding\\nSite     61   6.106106\n",
       "2  Disordered\\nRegion     14   1.401401\n",
       "3     Disulfide\\nBond      3   0.300300\n",
       "4       Redox\\nActive      1   0.100100\n",
       "5                  NA    909  90.990991"
      ]
     },
     "execution_count": 17,
     "metadata": {},
     "output_type": "execute_result"
    }
   ],
   "source": [
    "l_norm_function_df = get_normalized_functions(l_df, 'identifier', function_cols, function_vals, function_labels)\n",
    "l_norm_function_df"
   ]
  },
  {
   "cell_type": "markdown",
   "id": "a67fccf0-6218-4a1c-86be-69114b3b9411",
   "metadata": {},
   "source": [
    "# "
   ]
  },
  {
   "cell_type": "markdown",
   "id": "0e8c196d-bd56-4edd-a54e-fad1573b4727",
   "metadata": {},
   "source": [
    "## Concatonate Functional Counts for High and Low Reactive Cysteines"
   ]
  },
  {
   "cell_type": "code",
   "execution_count": 18,
   "id": "b4dafb1f",
   "metadata": {},
   "outputs": [],
   "source": [
    "h_norm_function_df['Reactivity'] = 'High'\n",
    "l_norm_function_df['Reactivity'] = 'Low'\n",
    "m_norm_function_df['Reactivity'] = 'Medium'\n",
    "together_norm_function_df = pd.concat([h_norm_function_df, m_norm_function_df, l_norm_function_df])"
   ]
  },
  {
   "cell_type": "markdown",
   "id": "c52ec5f8-b847-4a62-9e7c-98a74a86a575",
   "metadata": {},
   "source": [
    "# "
   ]
  },
  {
   "cell_type": "markdown",
   "id": "511e36c7-2af8-418a-8060-f3553e04eaed",
   "metadata": {},
   "source": [
    "# Plot Number of Cysteines involved in Active Sites, Binding Sites, Disordered Regions, Disulfides, are Redox Active, and NA"
   ]
  },
  {
   "cell_type": "code",
   "execution_count": 19,
   "id": "62f0efb4",
   "metadata": {},
   "outputs": [
    {
     "data": {
      "image/png": "[encoded data removed]",
      "text/plain": [
       "<Figure size 800x600 with 1 Axes>"
      ]
     },
     "metadata": {},
     "output_type": "display_data"
    }
   ],
   "source": [
    "get_new_grouped_bar_plot_h(together_norm_function_df, \n",
    "                 'Percent', 'Function', \n",
    "                 'Percentage of Unique Cysteines (%)',\n",
    "                 'h_l_isotop_with_na_h_percent', \n",
    "                 ['#dd0426', 'lightgrey', '#449dd1'], 20, 100)"
   ]
  },
  {
   "cell_type": "markdown",
   "id": "3d31d2ce-b0d7-4c8a-9482-15b7ed000c05",
   "metadata": {},
   "source": [
    "# "
   ]
  },
  {
   "cell_type": "markdown",
   "id": "7b009172-c487-44e1-97b7-bb34d5184f89",
   "metadata": {},
   "source": [
    "# Plot Number of Cysteines involved in Zinc Binding, Zing Finger Regions, and Metal Binding"
   ]
  },
  {
   "cell_type": "code",
   "execution_count": 20,
   "id": "20433459-74d8-420f-b6ed-6b94bdf32005",
   "metadata": {},
   "outputs": [
    {
     "data": {
      "text/plain": [
       "Reactivity  metal_binding\n",
       "High        yes               8\n",
       "Low         yes              14\n",
       "Medium      yes              83\n",
       "Name: metal_binding, dtype: int64"
      ]
     },
     "execution_count": 20,
     "metadata": {},
     "output_type": "execute_result"
    }
   ],
   "source": [
    "df.groupby('Reactivity')['metal_binding'].value_counts()"
   ]
  },
  {
   "cell_type": "code",
   "execution_count": 21,
   "id": "a5d44702-39cc-4412-a370-51e073377a25",
   "metadata": {},
   "outputs": [
    {
     "data": {
      "text/plain": [
       "Reactivity  zinc_binding\n",
       "High        yes              4\n",
       "Low         yes             13\n",
       "Medium      yes             56\n",
       "Name: zinc_binding, dtype: int64"
      ]
     },
     "execution_count": 21,
     "metadata": {},
     "output_type": "execute_result"
    }
   ],
   "source": [
    "df.groupby('Reactivity')['zinc_binding'].value_counts()"
   ]
  },
  {
   "cell_type": "code",
   "execution_count": 22,
   "id": "13f7c5a8-7b6a-423c-9e53-88055cdfba35",
   "metadata": {},
   "outputs": [
    {
     "data": {
      "text/plain": [
       "Reactivity  zinc_finger\n",
       "High        yes            18\n",
       "Low         yes            26\n",
       "Medium      yes            97\n",
       "Name: zinc_finger, dtype: int64"
      ]
     },
     "execution_count": 22,
     "metadata": {},
     "output_type": "execute_result"
    }
   ],
   "source": [
    "df.groupby('Reactivity')['zinc_finger'].value_counts()"
   ]
  },
  {
   "cell_type": "code",
   "execution_count": 23,
   "id": "4c31a1a2-729c-42ff-8cd1-1b37b78b1c19",
   "metadata": {},
   "outputs": [],
   "source": [
    "metal_new_df = pd.DataFrame()\n",
    "metal_new_df['Reactivity'] = ['High', 'High', 'High', 'Medium', 'Medium', 'Medium', 'Low', 'Low', 'Low']\n",
    "metal_new_df['Category'] = ['Metal\\nBinding', 'Zinc\\nBinding', 'Zinc\\nFinger', 'Metal\\nBinding', 'Zinc\\nBinding', 'Zinc\\nFinger', 'Metal\\nBinding', 'Zinc\\nBinding', 'Zinc\\nFinger']\n",
    "metal_new_df['Count'] = [8, 4, 18, 83, 56, 97, 14, 13, 26]"
   ]
  },
  {
   "cell_type": "code",
   "execution_count": 24,
   "id": "0ca0f8da-0c56-45ff-b302-f11eae375894",
   "metadata": {},
   "outputs": [
    {
     "data": {
      "image/png": "[encoded data removed]",
      "text/plain": [
       "<Figure size 800x800 with 1 Axes>"
      ]
     },
     "metadata": {},
     "output_type": "display_data"
    }
   ],
   "source": [
    "#create bar chart\n",
    "fig = plt.figure(figsize =(8, 8))\n",
    "\n",
    "sns.barplot(data=metal_new_df, x='Category', y='Count', palette = ['#dd0426', 'lightgrey', '#449dd1'], hue = 'Reactivity')\n",
    "\n",
    "plt.ylabel('No. of Unique Cysteines', size = 25)\n",
    "plt.xlabel('', size = 20)\n",
    "plt.yticks(size = 20) \n",
    "plt.xticks(size = 25)\n",
    "\n",
    "plt.legend(frameon = False, loc = 'upper center', fontsize = 20, title = 'Reactivity', title_fontsize = 20)\n",
    "\n",
    "plt.show()"
   ]
  },
  {
   "cell_type": "code",
   "execution_count": null,
   "id": "35f4553c-b2c3-4b2c-9f64-4db81c9951e9",
   "metadata": {},
   "outputs": [],
   "source": []
  }
 ],
 "metadata": {
  "kernelspec": {
   "display_name": "Python 3 (ipykernel)",
   "language": "python",
   "name": "python3"
  },
  "language_info": {
   "codemirror_mode": {
    "name": "ipython",
    "version": 3
   },
   "file_extension": ".py",
   "mimetype": "text/x-python",
   "name": "python",
   "nbconvert_exporter": "python",
   "pygments_lexer": "ipython3",
   "version": "3.12.4"
  }
 },
 "nbformat": 4,
 "nbformat_minor": 5
}
