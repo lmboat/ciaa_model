{
 "cells": [
  {
   "cell_type": "markdown",
   "id": "7e5d8097-87b5-4a2d-9743-9cce16a42f62",
   "metadata": {},
   "source": [
    "# Set Up Environment"
   ]
  },
  {
   "cell_type": "code",
   "execution_count": 1,
   "id": "632d446e",
   "metadata": {},
   "outputs": [],
   "source": [
    "import os, sys, random\n",
    "import numpy as np\n",
    "import pandas as pd\n",
    "import matplotlib.pyplot as plt\n",
    "import matplotlib\n",
    "import seaborn as sns\n",
    "from matplotlib.pyplot import figure"
   ]
  },
  {
   "cell_type": "markdown",
   "id": "58ef617b-f897-48c5-83e3-8a22f2577e2a",
   "metadata": {},
   "source": [
    "# "
   ]
  },
  {
   "cell_type": "markdown",
   "id": "39709b2b-5cb9-4551-a1fb-52776cae38b7",
   "metadata": {},
   "source": [
    "# Define Functions"
   ]
  },
  {
   "cell_type": "code",
   "execution_count": 2,
   "id": "399ee84c",
   "metadata": {},
   "outputs": [],
   "source": [
    "def get_target(df, col):\n",
    "    vals = []\n",
    "    \n",
    "    for index, row in df.iterrows():\n",
    "        if row[col] <= 2.3:\n",
    "            vals.append('High')\n",
    "        elif row[col] >= 10:\n",
    "            vals.append('Low')\n",
    "        else:\n",
    "            vals.append('Medium')\n",
    "            \n",
    "    new_df = df.copy()\n",
    "    new_df['reactivity'] = vals\n",
    "    return new_df"
   ]
  },
  {
   "cell_type": "markdown",
   "id": "798b3549",
   "metadata": {},
   "source": [
    "# "
   ]
  },
  {
   "cell_type": "markdown",
   "id": "e9758fb3",
   "metadata": {},
   "source": [
    "# Read isoTOP File"
   ]
  },
  {
   "cell_type": "code",
   "execution_count": 3,
   "id": "0da88e43",
   "metadata": {},
   "outputs": [],
   "source": [
    "i_df = pd.read_csv('../data/isotop_pdb.csv')"
   ]
  },
  {
   "cell_type": "code",
   "execution_count": 4,
   "id": "16bb93e9-12bd-4dd3-b1b4-1603003a40fe",
   "metadata": {},
   "outputs": [
    {
     "data": {
      "text/plain": [
       "(9783, 38)"
      ]
     },
     "execution_count": 4,
     "metadata": {},
     "output_type": "execute_result"
    }
   ],
   "source": [
    "i_df.shape"
   ]
  },
  {
   "cell_type": "code",
   "execution_count": 5,
   "id": "a47c262a",
   "metadata": {},
   "outputs": [
    {
     "data": {
      "text/html": [
       "<div>\n",
       "<style scoped>\n",
       "    .dataframe tbody tr th:only-of-type {\n",
       "        vertical-align: middle;\n",
       "    }\n",
       "\n",
       "    .dataframe tbody tr th {\n",
       "        vertical-align: top;\n",
       "    }\n",
       "\n",
       "    .dataframe thead th {\n",
       "        text-align: right;\n",
       "    }\n",
       "</style>\n",
       "<table border=\"1\" class=\"dataframe\">\n",
       "  <thead>\n",
       "    <tr style=\"text-align: right;\">\n",
       "      <th></th>\n",
       "      <th>identifier</th>\n",
       "      <th>protein</th>\n",
       "      <th>description</th>\n",
       "      <th>peptides</th>\n",
       "      <th>gene</th>\n",
       "      <th>2022_count</th>\n",
       "      <th>2019_count</th>\n",
       "      <th>2010_count</th>\n",
       "      <th>experiment_count</th>\n",
       "      <th>isotop-3_median</th>\n",
       "      <th>...</th>\n",
       "      <th>isotop-20_median</th>\n",
       "      <th>isotop-21_median</th>\n",
       "      <th>isotop-22_median</th>\n",
       "      <th>isotop-23_median</th>\n",
       "      <th>isotop-24_median</th>\n",
       "      <th>mean</th>\n",
       "      <th>sd</th>\n",
       "      <th>Entry</th>\n",
       "      <th>PDB</th>\n",
       "      <th>Classification</th>\n",
       "    </tr>\n",
       "  </thead>\n",
       "  <tbody>\n",
       "    <tr>\n",
       "      <th>0</th>\n",
       "      <td>Q5SRE5_C9</td>\n",
       "      <td>Q5SRE5</td>\n",
       "      <td>Nucleoporin NUP188 homolog</td>\n",
       "      <td>AAAAGGPC*VR</td>\n",
       "      <td>NUP188</td>\n",
       "      <td>13.0</td>\n",
       "      <td>NaN</td>\n",
       "      <td>NaN</td>\n",
       "      <td>13</td>\n",
       "      <td>3.537341</td>\n",
       "      <td>...</td>\n",
       "      <td>NaN</td>\n",
       "      <td>NaN</td>\n",
       "      <td>NaN</td>\n",
       "      <td>NaN</td>\n",
       "      <td>NaN</td>\n",
       "      <td>2.888758</td>\n",
       "      <td>0.777620</td>\n",
       "      <td>Q5SRE5</td>\n",
       "      <td>5IJO;7R5K;</td>\n",
       "      <td>Chaperone, Transporter, Channel, Receptor</td>\n",
       "    </tr>\n",
       "    <tr>\n",
       "      <th>1</th>\n",
       "      <td>Q9NRL3_C17</td>\n",
       "      <td>Q9NRL3</td>\n",
       "      <td>Striatin-4</td>\n",
       "      <td>AAAAVAAAASSC*RPLGSGAGPGPTGAAPVSAPAPGPGPAGK</td>\n",
       "      <td>STRN4</td>\n",
       "      <td>7.0</td>\n",
       "      <td>NaN</td>\n",
       "      <td>NaN</td>\n",
       "      <td>7</td>\n",
       "      <td>NaN</td>\n",
       "      <td>...</td>\n",
       "      <td>NaN</td>\n",
       "      <td>NaN</td>\n",
       "      <td>NaN</td>\n",
       "      <td>NaN</td>\n",
       "      <td>NaN</td>\n",
       "      <td>4.871786</td>\n",
       "      <td>1.679853</td>\n",
       "      <td>Q9NRL3</td>\n",
       "      <td>NaN</td>\n",
       "      <td>Scaffolding, Modulator, Adaptor</td>\n",
       "    </tr>\n",
       "    <tr>\n",
       "      <th>2</th>\n",
       "      <td>Q96C19_C172</td>\n",
       "      <td>Q96C19</td>\n",
       "      <td>EF-hand domain-containing protein D2</td>\n",
       "      <td>KAAAGELQEDSGLC*VLAR;AAAGELQEDSGLC*VLAR</td>\n",
       "      <td>EFHD2</td>\n",
       "      <td>13.0</td>\n",
       "      <td>5.0</td>\n",
       "      <td>1.0</td>\n",
       "      <td>19</td>\n",
       "      <td>2.250133</td>\n",
       "      <td>...</td>\n",
       "      <td>NaN</td>\n",
       "      <td>NaN</td>\n",
       "      <td>NaN</td>\n",
       "      <td>NaN</td>\n",
       "      <td>NaN</td>\n",
       "      <td>2.377649</td>\n",
       "      <td>1.301613</td>\n",
       "      <td>Q96C19</td>\n",
       "      <td>5H0P;5I2L;5I2O;5I2Q;</td>\n",
       "      <td>Nucleic Acid and Small Molecule Binding</td>\n",
       "    </tr>\n",
       "    <tr>\n",
       "      <th>3</th>\n",
       "      <td>P0DMV8_C17</td>\n",
       "      <td>P0DMV8</td>\n",
       "      <td>Heat shock 70 kDa protein 1A</td>\n",
       "      <td>AAAIGIDLGTTYSC*VGVFQHGK;AAAIGIDLGTTYSC*VGVFQHG...</td>\n",
       "      <td>HSPA1A</td>\n",
       "      <td>13.0</td>\n",
       "      <td>NaN</td>\n",
       "      <td>NaN</td>\n",
       "      <td>13</td>\n",
       "      <td>10.980129</td>\n",
       "      <td>...</td>\n",
       "      <td>NaN</td>\n",
       "      <td>NaN</td>\n",
       "      <td>NaN</td>\n",
       "      <td>NaN</td>\n",
       "      <td>NaN</td>\n",
       "      <td>6.718041</td>\n",
       "      <td>3.760279</td>\n",
       "      <td>P0DMV8</td>\n",
       "      <td>1HJO;1S3X;1XQS;2E88;2E8A;2LMG;3A8Y;3ATU;3ATV;3...</td>\n",
       "      <td>Chaperone, Transporter, Channel, Receptor</td>\n",
       "    </tr>\n",
       "    <tr>\n",
       "      <th>4</th>\n",
       "      <td>P20810_C408</td>\n",
       "      <td>P20810</td>\n",
       "      <td>Calpastatin</td>\n",
       "      <td>AAAPAPVSEAVC*R</td>\n",
       "      <td>CAST</td>\n",
       "      <td>13.0</td>\n",
       "      <td>NaN</td>\n",
       "      <td>NaN</td>\n",
       "      <td>13</td>\n",
       "      <td>3.719817</td>\n",
       "      <td>...</td>\n",
       "      <td>NaN</td>\n",
       "      <td>NaN</td>\n",
       "      <td>NaN</td>\n",
       "      <td>NaN</td>\n",
       "      <td>NaN</td>\n",
       "      <td>3.621821</td>\n",
       "      <td>0.852873</td>\n",
       "      <td>P20810</td>\n",
       "      <td>NaN</td>\n",
       "      <td>Enzyme</td>\n",
       "    </tr>\n",
       "  </tbody>\n",
       "</table>\n",
       "<p>5 rows × 38 columns</p>\n",
       "</div>"
      ],
      "text/plain": [
       "    identifier protein                           description  \\\n",
       "0    Q5SRE5_C9  Q5SRE5            Nucleoporin NUP188 homolog   \n",
       "1   Q9NRL3_C17  Q9NRL3                            Striatin-4   \n",
       "2  Q96C19_C172  Q96C19  EF-hand domain-containing protein D2   \n",
       "3   P0DMV8_C17  P0DMV8          Heat shock 70 kDa protein 1A   \n",
       "4  P20810_C408  P20810                           Calpastatin   \n",
       "\n",
       "                                            peptides    gene  2022_count  \\\n",
       "0                                        AAAAGGPC*VR  NUP188        13.0   \n",
       "1         AAAAVAAAASSC*RPLGSGAGPGPTGAAPVSAPAPGPGPAGK   STRN4         7.0   \n",
       "2             KAAAGELQEDSGLC*VLAR;AAAGELQEDSGLC*VLAR   EFHD2        13.0   \n",
       "3  AAAIGIDLGTTYSC*VGVFQHGK;AAAIGIDLGTTYSC*VGVFQHG...  HSPA1A        13.0   \n",
       "4                                     AAAPAPVSEAVC*R    CAST        13.0   \n",
       "\n",
       "   2019_count  2010_count  experiment_count  isotop-3_median  ...  \\\n",
       "0         NaN         NaN                13         3.537341  ...   \n",
       "1         NaN         NaN                 7              NaN  ...   \n",
       "2         5.0         1.0                19         2.250133  ...   \n",
       "3         NaN         NaN                13        10.980129  ...   \n",
       "4         NaN         NaN                13         3.719817  ...   \n",
       "\n",
       "   isotop-20_median  isotop-21_median  isotop-22_median  isotop-23_median  \\\n",
       "0               NaN               NaN               NaN               NaN   \n",
       "1               NaN               NaN               NaN               NaN   \n",
       "2               NaN               NaN               NaN               NaN   \n",
       "3               NaN               NaN               NaN               NaN   \n",
       "4               NaN               NaN               NaN               NaN   \n",
       "\n",
       "   isotop-24_median      mean        sd   Entry  \\\n",
       "0               NaN  2.888758  0.777620  Q5SRE5   \n",
       "1               NaN  4.871786  1.679853  Q9NRL3   \n",
       "2               NaN  2.377649  1.301613  Q96C19   \n",
       "3               NaN  6.718041  3.760279  P0DMV8   \n",
       "4               NaN  3.621821  0.852873  P20810   \n",
       "\n",
       "                                                 PDB  \\\n",
       "0                                         5IJO;7R5K;   \n",
       "1                                                NaN   \n",
       "2                               5H0P;5I2L;5I2O;5I2Q;   \n",
       "3  1HJO;1S3X;1XQS;2E88;2E8A;2LMG;3A8Y;3ATU;3ATV;3...   \n",
       "4                                                NaN   \n",
       "\n",
       "                              Classification  \n",
       "0  Chaperone, Transporter, Channel, Receptor  \n",
       "1            Scaffolding, Modulator, Adaptor  \n",
       "2    Nucleic Acid and Small Molecule Binding  \n",
       "3  Chaperone, Transporter, Channel, Receptor  \n",
       "4                                     Enzyme  \n",
       "\n",
       "[5 rows x 38 columns]"
      ]
     },
     "execution_count": 5,
     "metadata": {},
     "output_type": "execute_result"
    }
   ],
   "source": [
    "i_df.head()"
   ]
  },
  {
   "cell_type": "code",
   "execution_count": 6,
   "id": "0680ab69",
   "metadata": {},
   "outputs": [
    {
     "data": {
      "text/plain": [
       "Medium    7964\n",
       "Low        996\n",
       "High       823\n",
       "Name: reactivity, dtype: int64"
      ]
     },
     "execution_count": 6,
     "metadata": {},
     "output_type": "execute_result"
    }
   ],
   "source": [
    "i_df = get_target(i_df, 'mean')\n",
    "i_df['reactivity'].value_counts()"
   ]
  },
  {
   "cell_type": "markdown",
   "id": "25caac48-85f4-49d6-bff1-94771d9b9abb",
   "metadata": {},
   "source": [
    "# "
   ]
  },
  {
   "cell_type": "markdown",
   "id": "5cdd083b-77f1-472e-8776-7cfccb9badb4",
   "metadata": {},
   "source": [
    "# Subset Cysteines by Reactivity"
   ]
  },
  {
   "cell_type": "code",
   "execution_count": 7,
   "id": "a016e44c",
   "metadata": {},
   "outputs": [
    {
     "data": {
      "text/plain": [
       "823"
      ]
     },
     "execution_count": 7,
     "metadata": {},
     "output_type": "execute_result"
    }
   ],
   "source": [
    "h_df = i_df[i_df['reactivity'] == 'High']\n",
    "h_c_ids = list(h_df['identifier'].unique())\n",
    "len(h_c_ids)"
   ]
  },
  {
   "cell_type": "code",
   "execution_count": 8,
   "id": "879fd56e",
   "metadata": {},
   "outputs": [
    {
     "data": {
      "text/plain": [
       "7964"
      ]
     },
     "execution_count": 8,
     "metadata": {},
     "output_type": "execute_result"
    }
   ],
   "source": [
    "m_df = i_df[i_df['reactivity'] == 'Medium']\n",
    "m_c_ids = list(m_df['identifier'].unique())\n",
    "len(m_c_ids)"
   ]
  },
  {
   "cell_type": "code",
   "execution_count": 9,
   "id": "83548468",
   "metadata": {},
   "outputs": [
    {
     "data": {
      "text/plain": [
       "996"
      ]
     },
     "execution_count": 9,
     "metadata": {},
     "output_type": "execute_result"
    }
   ],
   "source": [
    "l_df = i_df[i_df['reactivity'] == 'Low']\n",
    "l_c_ids = list(l_df['identifier'].unique())\n",
    "len(l_c_ids)"
   ]
  },
  {
   "cell_type": "markdown",
   "id": "0dec1440-75ea-4df4-b640-f6357d3f46f7",
   "metadata": {},
   "source": [
    "# "
   ]
  },
  {
   "cell_type": "markdown",
   "id": "879bb134-2f6b-4ee7-abfd-bb0e4b05696e",
   "metadata": {},
   "source": [
    "# Subset Cysteines Associated with PDB"
   ]
  },
  {
   "cell_type": "code",
   "execution_count": 10,
   "id": "9081269c",
   "metadata": {},
   "outputs": [],
   "source": [
    "i_pdb_df = i_df[i_df['PDB'].isna() == False]"
   ]
  },
  {
   "cell_type": "code",
   "execution_count": 11,
   "id": "29083692",
   "metadata": {},
   "outputs": [
    {
     "name": "stderr",
     "output_type": "stream",
     "text": [
      "C:\\Users\\Onee-sama\\AppData\\Local\\Temp\\ipykernel_1416\\183157068.py:1: SettingWithCopyWarning: \n",
      "A value is trying to be set on a copy of a slice from a DataFrame.\n",
      "Try using .loc[row_indexer,col_indexer] = value instead\n",
      "\n",
      "See the caveats in the documentation: https://pandas.pydata.org/pandas-docs/stable/user_guide/indexing.html#returning-a-view-versus-a-copy\n",
      "  i_pdb_df['PDB'] = i_pdb_df['PDB'].map(lambda x: str(x)[:-1])\n"
     ]
    }
   ],
   "source": [
    "i_pdb_df['PDB'] = i_pdb_df['PDB'].map(lambda x: str(x)[:-1])"
   ]
  },
  {
   "cell_type": "code",
   "execution_count": 12,
   "id": "fbbc62a0",
   "metadata": {},
   "outputs": [
    {
     "name": "stderr",
     "output_type": "stream",
     "text": [
      "C:\\Users\\Onee-sama\\AppData\\Local\\Temp\\ipykernel_1416\\4147437206.py:1: SettingWithCopyWarning: \n",
      "A value is trying to be set on a copy of a slice from a DataFrame.\n",
      "Try using .loc[row_indexer,col_indexer] = value instead\n",
      "\n",
      "See the caveats in the documentation: https://pandas.pydata.org/pandas-docs/stable/user_guide/indexing.html#returning-a-view-versus-a-copy\n",
      "  i_pdb_df['PDB'] = i_pdb_df['PDB'].map(lambda x: str(x).split(';'))\n"
     ]
    }
   ],
   "source": [
    "i_pdb_df['PDB'] = i_pdb_df['PDB'].map(lambda x: str(x).split(';'))"
   ]
  },
  {
   "cell_type": "code",
   "execution_count": 13,
   "id": "7fe2a664",
   "metadata": {},
   "outputs": [],
   "source": [
    "pdb_df = i_pdb_df.explode('PDB')"
   ]
  },
  {
   "cell_type": "code",
   "execution_count": 14,
   "id": "86ea2168",
   "metadata": {},
   "outputs": [
    {
     "data": {
      "text/plain": [
       "(4706, 554)"
      ]
     },
     "execution_count": 14,
     "metadata": {},
     "output_type": "execute_result"
    }
   ],
   "source": [
    "h_pdb_df = pdb_df[pdb_df['reactivity'] == 'High']\n",
    "h_pdb_ids = list(h_pdb_df['PDB'].unique())\n",
    "h_pdb_c_ids = list(h_pdb_df['identifier'].unique())\n",
    "len(h_pdb_ids), len(h_pdb_c_ids)"
   ]
  },
  {
   "cell_type": "code",
   "execution_count": 15,
   "id": "cf2b45f6",
   "metadata": {},
   "outputs": [
    {
     "data": {
      "text/plain": [
       "(21031, 5628)"
      ]
     },
     "execution_count": 15,
     "metadata": {},
     "output_type": "execute_result"
    }
   ],
   "source": [
    "m_pdb_df = pdb_df[pdb_df['reactivity'] == 'Medium']\n",
    "m_pdb_ids = list(m_pdb_df['PDB'].unique())\n",
    "m_pdb_c_ids = list(m_pdb_df['identifier'].unique())\n",
    "len(m_pdb_ids), len(m_pdb_c_ids)"
   ]
  },
  {
   "cell_type": "code",
   "execution_count": 16,
   "id": "936bce8e",
   "metadata": {},
   "outputs": [
    {
     "data": {
      "text/plain": [
       "(5540, 700)"
      ]
     },
     "execution_count": 16,
     "metadata": {},
     "output_type": "execute_result"
    }
   ],
   "source": [
    "l_pdb_df = pdb_df[pdb_df['reactivity'] == 'Low']\n",
    "l_pdb_ids = list(l_pdb_df['PDB'].unique())\n",
    "l_pdb_c_ids = list(l_pdb_df['identifier'].unique())\n",
    "len(l_pdb_ids), len(l_pdb_c_ids)"
   ]
  },
  {
   "cell_type": "code",
   "execution_count": 17,
   "id": "7365faba",
   "metadata": {},
   "outputs": [
    {
     "data": {
      "text/plain": [
       "(483, 563)"
      ]
     },
     "execution_count": 17,
     "metadata": {},
     "output_type": "execute_result"
    }
   ],
   "source": [
    "h_pdb_p_ids = list(h_pdb_df['protein'].unique())\n",
    "l_pdb_p_ids = list(l_pdb_df['protein'].unique())\n",
    "len(h_pdb_p_ids), len(l_pdb_p_ids)"
   ]
  },
  {
   "cell_type": "markdown",
   "id": "ddf7fea2",
   "metadata": {},
   "source": [
    "# "
   ]
  },
  {
   "cell_type": "markdown",
   "id": "d4d20070",
   "metadata": {},
   "source": [
    "# Read Found Peptides "
   ]
  },
  {
   "cell_type": "code",
   "execution_count": 18,
   "id": "7d483f29-5907-4d55-8b63-39e290582f5c",
   "metadata": {},
   "outputs": [],
   "source": [
    "pep_df = pd.read_csv('../data/list_found_peptides.csv')"
   ]
  },
  {
   "cell_type": "code",
   "execution_count": 19,
   "id": "01bf7eab-a2cd-4080-837e-e7746a8e5ae9",
   "metadata": {},
   "outputs": [
    {
     "data": {
      "text/html": [
       "<div>\n",
       "<style scoped>\n",
       "    .dataframe tbody tr th:only-of-type {\n",
       "        vertical-align: middle;\n",
       "    }\n",
       "\n",
       "    .dataframe tbody tr th {\n",
       "        vertical-align: top;\n",
       "    }\n",
       "\n",
       "    .dataframe thead th {\n",
       "        text-align: right;\n",
       "    }\n",
       "</style>\n",
       "<table border=\"1\" class=\"dataframe\">\n",
       "  <thead>\n",
       "    <tr style=\"text-align: right;\">\n",
       "      <th></th>\n",
       "      <th>protein</th>\n",
       "      <th>uniprot_resid</th>\n",
       "      <th>pdb</th>\n",
       "      <th>peptide</th>\n",
       "      <th>position</th>\n",
       "      <th>resid</th>\n",
       "      <th>chainid</th>\n",
       "      <th>ratio_mean</th>\n",
       "      <th>ratio_sd</th>\n",
       "      <th>ratio_count</th>\n",
       "      <th>uniprot_identifier</th>\n",
       "      <th>reactivity</th>\n",
       "    </tr>\n",
       "  </thead>\n",
       "  <tbody>\n",
       "    <tr>\n",
       "      <th>0</th>\n",
       "      <td>A0AVT1</td>\n",
       "      <td>96</td>\n",
       "      <td>7PYV</td>\n",
       "      <td>CQAWDLGTNFFLSEDDVVNKR</td>\n",
       "      <td>0</td>\n",
       "      <td>96</td>\n",
       "      <td>A</td>\n",
       "      <td>8.650112</td>\n",
       "      <td>2.696751</td>\n",
       "      <td>3</td>\n",
       "      <td>A0AVT1_C96</td>\n",
       "      <td>Medium</td>\n",
       "    </tr>\n",
       "    <tr>\n",
       "      <th>1</th>\n",
       "      <td>A0AVT1</td>\n",
       "      <td>96</td>\n",
       "      <td>7PYV</td>\n",
       "      <td>CQAWDLGTNFFLSEDDVVNKR</td>\n",
       "      <td>0</td>\n",
       "      <td>96</td>\n",
       "      <td>B</td>\n",
       "      <td>8.650112</td>\n",
       "      <td>2.696751</td>\n",
       "      <td>3</td>\n",
       "      <td>A0AVT1_C96</td>\n",
       "      <td>Medium</td>\n",
       "    </tr>\n",
       "    <tr>\n",
       "      <th>2</th>\n",
       "      <td>A0AVT1</td>\n",
       "      <td>347</td>\n",
       "      <td>7PYV</td>\n",
       "      <td>KPNVGCQQDSEELLK</td>\n",
       "      <td>5</td>\n",
       "      <td>347</td>\n",
       "      <td>A</td>\n",
       "      <td>1.724610</td>\n",
       "      <td>0.536878</td>\n",
       "      <td>17</td>\n",
       "      <td>A0AVT1_C347</td>\n",
       "      <td>High</td>\n",
       "    </tr>\n",
       "    <tr>\n",
       "      <th>3</th>\n",
       "      <td>A0AVT1</td>\n",
       "      <td>347</td>\n",
       "      <td>7PYV</td>\n",
       "      <td>KPNVGCQQDSEELLK</td>\n",
       "      <td>5</td>\n",
       "      <td>347</td>\n",
       "      <td>B</td>\n",
       "      <td>1.724610</td>\n",
       "      <td>0.536878</td>\n",
       "      <td>17</td>\n",
       "      <td>A0AVT1_C347</td>\n",
       "      <td>High</td>\n",
       "    </tr>\n",
       "    <tr>\n",
       "      <th>4</th>\n",
       "      <td>A0AVT1</td>\n",
       "      <td>433</td>\n",
       "      <td>7PYV</td>\n",
       "      <td>FSPLCQWLYLEAADIVESLGKPECEEFLPR</td>\n",
       "      <td>23</td>\n",
       "      <td>433</td>\n",
       "      <td>A</td>\n",
       "      <td>4.260000</td>\n",
       "      <td>1.226295</td>\n",
       "      <td>4</td>\n",
       "      <td>A0AVT1_C433</td>\n",
       "      <td>Medium</td>\n",
       "    </tr>\n",
       "    <tr>\n",
       "      <th>...</th>\n",
       "      <td>...</td>\n",
       "      <td>...</td>\n",
       "      <td>...</td>\n",
       "      <td>...</td>\n",
       "      <td>...</td>\n",
       "      <td>...</td>\n",
       "      <td>...</td>\n",
       "      <td>...</td>\n",
       "      <td>...</td>\n",
       "      <td>...</td>\n",
       "      <td>...</td>\n",
       "      <td>...</td>\n",
       "    </tr>\n",
       "    <tr>\n",
       "      <th>81412</th>\n",
       "      <td>Q9Y6N5</td>\n",
       "      <td>379</td>\n",
       "      <td>6OI6</td>\n",
       "      <td>KYDGYTSCPLVTGYNR</td>\n",
       "      <td>7</td>\n",
       "      <td>379</td>\n",
       "      <td>B</td>\n",
       "      <td>5.785433</td>\n",
       "      <td>0.821703</td>\n",
       "      <td>3</td>\n",
       "      <td>Q9Y6N5_C379</td>\n",
       "      <td>Medium</td>\n",
       "    </tr>\n",
       "    <tr>\n",
       "      <th>81413</th>\n",
       "      <td>Q9Y6N5</td>\n",
       "      <td>379</td>\n",
       "      <td>6OIB</td>\n",
       "      <td>KYDGYTSCPLVTGYNR</td>\n",
       "      <td>7</td>\n",
       "      <td>379</td>\n",
       "      <td>A</td>\n",
       "      <td>5.785433</td>\n",
       "      <td>0.821703</td>\n",
       "      <td>3</td>\n",
       "      <td>Q9Y6N5_C379</td>\n",
       "      <td>Medium</td>\n",
       "    </tr>\n",
       "    <tr>\n",
       "      <th>81414</th>\n",
       "      <td>Q9Y6N5</td>\n",
       "      <td>379</td>\n",
       "      <td>6OIB</td>\n",
       "      <td>KYDGYTSCPLVTGYNR</td>\n",
       "      <td>7</td>\n",
       "      <td>379</td>\n",
       "      <td>B</td>\n",
       "      <td>5.785433</td>\n",
       "      <td>0.821703</td>\n",
       "      <td>3</td>\n",
       "      <td>Q9Y6N5_C379</td>\n",
       "      <td>Medium</td>\n",
       "    </tr>\n",
       "    <tr>\n",
       "      <th>81415</th>\n",
       "      <td>Q9Y6N5</td>\n",
       "      <td>379</td>\n",
       "      <td>6OIC</td>\n",
       "      <td>KYDGYTSCPLVTGYNR</td>\n",
       "      <td>7</td>\n",
       "      <td>379</td>\n",
       "      <td>A</td>\n",
       "      <td>5.785433</td>\n",
       "      <td>0.821703</td>\n",
       "      <td>3</td>\n",
       "      <td>Q9Y6N5_C379</td>\n",
       "      <td>Medium</td>\n",
       "    </tr>\n",
       "    <tr>\n",
       "      <th>81416</th>\n",
       "      <td>Q9Y6N5</td>\n",
       "      <td>379</td>\n",
       "      <td>6OIC</td>\n",
       "      <td>KYDGYTSCPLVTGYNR</td>\n",
       "      <td>7</td>\n",
       "      <td>379</td>\n",
       "      <td>B</td>\n",
       "      <td>5.785433</td>\n",
       "      <td>0.821703</td>\n",
       "      <td>3</td>\n",
       "      <td>Q9Y6N5_C379</td>\n",
       "      <td>Medium</td>\n",
       "    </tr>\n",
       "  </tbody>\n",
       "</table>\n",
       "<p>81417 rows × 12 columns</p>\n",
       "</div>"
      ],
      "text/plain": [
       "      protein  uniprot_resid   pdb                         peptide  position  \\\n",
       "0      A0AVT1             96  7PYV           CQAWDLGTNFFLSEDDVVNKR         0   \n",
       "1      A0AVT1             96  7PYV           CQAWDLGTNFFLSEDDVVNKR         0   \n",
       "2      A0AVT1            347  7PYV                 KPNVGCQQDSEELLK         5   \n",
       "3      A0AVT1            347  7PYV                 KPNVGCQQDSEELLK         5   \n",
       "4      A0AVT1            433  7PYV  FSPLCQWLYLEAADIVESLGKPECEEFLPR        23   \n",
       "...       ...            ...   ...                             ...       ...   \n",
       "81412  Q9Y6N5            379  6OI6                KYDGYTSCPLVTGYNR         7   \n",
       "81413  Q9Y6N5            379  6OIB                KYDGYTSCPLVTGYNR         7   \n",
       "81414  Q9Y6N5            379  6OIB                KYDGYTSCPLVTGYNR         7   \n",
       "81415  Q9Y6N5            379  6OIC                KYDGYTSCPLVTGYNR         7   \n",
       "81416  Q9Y6N5            379  6OIC                KYDGYTSCPLVTGYNR         7   \n",
       "\n",
       "       resid chainid  ratio_mean  ratio_sd  ratio_count uniprot_identifier  \\\n",
       "0         96       A    8.650112  2.696751            3         A0AVT1_C96   \n",
       "1         96       B    8.650112  2.696751            3         A0AVT1_C96   \n",
       "2        347       A    1.724610  0.536878           17        A0AVT1_C347   \n",
       "3        347       B    1.724610  0.536878           17        A0AVT1_C347   \n",
       "4        433       A    4.260000  1.226295            4        A0AVT1_C433   \n",
       "...      ...     ...         ...       ...          ...                ...   \n",
       "81412    379       B    5.785433  0.821703            3        Q9Y6N5_C379   \n",
       "81413    379       A    5.785433  0.821703            3        Q9Y6N5_C379   \n",
       "81414    379       B    5.785433  0.821703            3        Q9Y6N5_C379   \n",
       "81415    379       A    5.785433  0.821703            3        Q9Y6N5_C379   \n",
       "81416    379       B    5.785433  0.821703            3        Q9Y6N5_C379   \n",
       "\n",
       "      reactivity  \n",
       "0         Medium  \n",
       "1         Medium  \n",
       "2           High  \n",
       "3           High  \n",
       "4         Medium  \n",
       "...          ...  \n",
       "81412     Medium  \n",
       "81413     Medium  \n",
       "81414     Medium  \n",
       "81415     Medium  \n",
       "81416     Medium  \n",
       "\n",
       "[81417 rows x 12 columns]"
      ]
     },
     "execution_count": 19,
     "metadata": {},
     "output_type": "execute_result"
    }
   ],
   "source": [
    "pep_df"
   ]
  },
  {
   "cell_type": "code",
   "execution_count": 20,
   "id": "6516b5f8",
   "metadata": {},
   "outputs": [
    {
     "data": {
      "text/plain": [
       "(1998, 345)"
      ]
     },
     "execution_count": 20,
     "metadata": {},
     "output_type": "execute_result"
    }
   ],
   "source": [
    "h_pep_df = pep_df[pep_df['reactivity'] == 'High']\n",
    "h_pep_ids = list(h_pep_df['pdb'].unique())\n",
    "h_pep_c_ids = list(h_pep_df['uniprot_identifier'].unique())\n",
    "len(h_pep_ids), len(h_pep_c_ids)"
   ]
  },
  {
   "cell_type": "code",
   "execution_count": 21,
   "id": "3fc03485",
   "metadata": {},
   "outputs": [
    {
     "data": {
      "text/plain": [
       "(11666, 3413)"
      ]
     },
     "execution_count": 21,
     "metadata": {},
     "output_type": "execute_result"
    }
   ],
   "source": [
    "m_pep_df = pep_df[pep_df['reactivity'] == 'Medium']\n",
    "m_pep_ids = list(m_pep_df['pdb'].unique())\n",
    "m_pep_c_ids = list(m_pep_df['uniprot_identifier'].unique())\n",
    "len(m_pep_ids), len(m_pep_c_ids)"
   ]
  },
  {
   "cell_type": "code",
   "execution_count": 22,
   "id": "f9c880df",
   "metadata": {},
   "outputs": [
    {
     "data": {
      "text/plain": [
       "(1753, 322)"
      ]
     },
     "execution_count": 22,
     "metadata": {},
     "output_type": "execute_result"
    }
   ],
   "source": [
    "l_pep_df = pep_df[pep_df['reactivity'] == 'Low']\n",
    "l_pep_ids = list(l_pep_df['pdb'].unique())\n",
    "l_pep_c_ids = list(l_pep_df['uniprot_identifier'].unique())\n",
    "len(l_pep_ids), len(l_pep_c_ids)"
   ]
  },
  {
   "cell_type": "markdown",
   "id": "c693bb5e",
   "metadata": {},
   "source": [
    "# "
   ]
  },
  {
   "cell_type": "markdown",
   "id": "74ffbca9",
   "metadata": {},
   "source": [
    "# Read Final Selection "
   ]
  },
  {
   "cell_type": "code",
   "execution_count": 23,
   "id": "11699efe",
   "metadata": {},
   "outputs": [],
   "source": [
    "final_df = pd.read_csv('../data/final_selection.csv')"
   ]
  },
  {
   "cell_type": "code",
   "execution_count": 24,
   "id": "2c7170e9",
   "metadata": {},
   "outputs": [
    {
     "data": {
      "text/html": [
       "<div>\n",
       "<style scoped>\n",
       "    .dataframe tbody tr th:only-of-type {\n",
       "        vertical-align: middle;\n",
       "    }\n",
       "\n",
       "    .dataframe tbody tr th {\n",
       "        vertical-align: top;\n",
       "    }\n",
       "\n",
       "    .dataframe thead th {\n",
       "        text-align: right;\n",
       "    }\n",
       "</style>\n",
       "<table border=\"1\" class=\"dataframe\">\n",
       "  <thead>\n",
       "    <tr style=\"text-align: right;\">\n",
       "      <th></th>\n",
       "      <th>protein</th>\n",
       "      <th>pdb</th>\n",
       "      <th>n_biomolecule</th>\n",
       "      <th>total_biomolecule</th>\n",
       "      <th>n_chainid</th>\n",
       "      <th>total_chainid</th>\n",
       "      <th>total_duplicated_chains</th>\n",
       "      <th>chainids_corrected</th>\n",
       "      <th>n_terminus_disorder</th>\n",
       "      <th>c_terminus_disorder</th>\n",
       "      <th>...</th>\n",
       "      <th>uniprot_resid</th>\n",
       "      <th>ratio_mean</th>\n",
       "      <th>ratio_sd</th>\n",
       "      <th>pdb_identifier</th>\n",
       "      <th>structureid</th>\n",
       "      <th>pdb_chainid_identifier</th>\n",
       "      <th>uniprot_identifier</th>\n",
       "      <th>reactivity</th>\n",
       "      <th>main_identifier</th>\n",
       "      <th>unique_identifier</th>\n",
       "    </tr>\n",
       "  </thead>\n",
       "  <tbody>\n",
       "    <tr>\n",
       "      <th>0</th>\n",
       "      <td>A5YKK6</td>\n",
       "      <td>4CRU</td>\n",
       "      <td>1</td>\n",
       "      <td>1</td>\n",
       "      <td>2</td>\n",
       "      <td>2</td>\n",
       "      <td>0</td>\n",
       "      <td>NaN</td>\n",
       "      <td>4</td>\n",
       "      <td>3</td>\n",
       "      <td>...</td>\n",
       "      <td>NaN</td>\n",
       "      <td>NaN</td>\n",
       "      <td>NaN</td>\n",
       "      <td>4CRU_A_C1392</td>\n",
       "      <td>4CRU_A_1392</td>\n",
       "      <td>4CRU_A</td>\n",
       "      <td>NaN</td>\n",
       "      <td>NaN</td>\n",
       "      <td>NaN</td>\n",
       "      <td>NaN</td>\n",
       "    </tr>\n",
       "    <tr>\n",
       "      <th>1</th>\n",
       "      <td>A5YKK6</td>\n",
       "      <td>4CRU</td>\n",
       "      <td>1</td>\n",
       "      <td>1</td>\n",
       "      <td>2</td>\n",
       "      <td>2</td>\n",
       "      <td>0</td>\n",
       "      <td>NaN</td>\n",
       "      <td>4</td>\n",
       "      <td>3</td>\n",
       "      <td>...</td>\n",
       "      <td>NaN</td>\n",
       "      <td>NaN</td>\n",
       "      <td>NaN</td>\n",
       "      <td>4CRU_A_C1420</td>\n",
       "      <td>4CRU_A_1420</td>\n",
       "      <td>4CRU_A</td>\n",
       "      <td>NaN</td>\n",
       "      <td>NaN</td>\n",
       "      <td>NaN</td>\n",
       "      <td>NaN</td>\n",
       "    </tr>\n",
       "    <tr>\n",
       "      <th>2</th>\n",
       "      <td>A5YKK6</td>\n",
       "      <td>4CRU</td>\n",
       "      <td>1</td>\n",
       "      <td>1</td>\n",
       "      <td>2</td>\n",
       "      <td>2</td>\n",
       "      <td>0</td>\n",
       "      <td>NaN</td>\n",
       "      <td>4</td>\n",
       "      <td>3</td>\n",
       "      <td>...</td>\n",
       "      <td>NaN</td>\n",
       "      <td>NaN</td>\n",
       "      <td>NaN</td>\n",
       "      <td>4CRU_A_C1457</td>\n",
       "      <td>4CRU_A_1457</td>\n",
       "      <td>4CRU_A</td>\n",
       "      <td>NaN</td>\n",
       "      <td>NaN</td>\n",
       "      <td>NaN</td>\n",
       "      <td>NaN</td>\n",
       "    </tr>\n",
       "    <tr>\n",
       "      <th>3</th>\n",
       "      <td>A5YKK6</td>\n",
       "      <td>4CRU</td>\n",
       "      <td>1</td>\n",
       "      <td>1</td>\n",
       "      <td>2</td>\n",
       "      <td>2</td>\n",
       "      <td>0</td>\n",
       "      <td>NaN</td>\n",
       "      <td>4</td>\n",
       "      <td>3</td>\n",
       "      <td>...</td>\n",
       "      <td>NaN</td>\n",
       "      <td>NaN</td>\n",
       "      <td>NaN</td>\n",
       "      <td>4CRU_A_C1500</td>\n",
       "      <td>4CRU_A_1500</td>\n",
       "      <td>4CRU_A</td>\n",
       "      <td>NaN</td>\n",
       "      <td>NaN</td>\n",
       "      <td>NaN</td>\n",
       "      <td>NaN</td>\n",
       "    </tr>\n",
       "    <tr>\n",
       "      <th>4</th>\n",
       "      <td>A5YKK6</td>\n",
       "      <td>4CRU</td>\n",
       "      <td>1</td>\n",
       "      <td>1</td>\n",
       "      <td>2</td>\n",
       "      <td>2</td>\n",
       "      <td>0</td>\n",
       "      <td>NaN</td>\n",
       "      <td>4</td>\n",
       "      <td>3</td>\n",
       "      <td>...</td>\n",
       "      <td>NaN</td>\n",
       "      <td>NaN</td>\n",
       "      <td>NaN</td>\n",
       "      <td>4CRU_A_C1504</td>\n",
       "      <td>4CRU_A_1504</td>\n",
       "      <td>4CRU_A</td>\n",
       "      <td>NaN</td>\n",
       "      <td>NaN</td>\n",
       "      <td>NaN</td>\n",
       "      <td>NaN</td>\n",
       "    </tr>\n",
       "    <tr>\n",
       "      <th>...</th>\n",
       "      <td>...</td>\n",
       "      <td>...</td>\n",
       "      <td>...</td>\n",
       "      <td>...</td>\n",
       "      <td>...</td>\n",
       "      <td>...</td>\n",
       "      <td>...</td>\n",
       "      <td>...</td>\n",
       "      <td>...</td>\n",
       "      <td>...</td>\n",
       "      <td>...</td>\n",
       "      <td>...</td>\n",
       "      <td>...</td>\n",
       "      <td>...</td>\n",
       "      <td>...</td>\n",
       "      <td>...</td>\n",
       "      <td>...</td>\n",
       "      <td>...</td>\n",
       "      <td>...</td>\n",
       "      <td>...</td>\n",
       "      <td>...</td>\n",
       "    </tr>\n",
       "    <tr>\n",
       "      <th>129384</th>\n",
       "      <td>Q9Y613</td>\n",
       "      <td>6XF1</td>\n",
       "      <td>2</td>\n",
       "      <td>2</td>\n",
       "      <td>2</td>\n",
       "      <td>4</td>\n",
       "      <td>0</td>\n",
       "      <td>NaN</td>\n",
       "      <td>0</td>\n",
       "      <td>0</td>\n",
       "      <td>...</td>\n",
       "      <td>31.0</td>\n",
       "      <td>6.370455</td>\n",
       "      <td>2.697119</td>\n",
       "      <td>6XF1_D_C31</td>\n",
       "      <td>6XF1_D_31</td>\n",
       "      <td>6XF1_D</td>\n",
       "      <td>Q9Y613_C31</td>\n",
       "      <td>Medium</td>\n",
       "      <td>Q9Y613_C31_6XF1_D_C31</td>\n",
       "      <td>Q9Y613_C31_6XF1_D_C31_2</td>\n",
       "    </tr>\n",
       "    <tr>\n",
       "      <th>129385</th>\n",
       "      <td>Q9Y613</td>\n",
       "      <td>6XF1</td>\n",
       "      <td>2</td>\n",
       "      <td>2</td>\n",
       "      <td>2</td>\n",
       "      <td>4</td>\n",
       "      <td>0</td>\n",
       "      <td>NaN</td>\n",
       "      <td>0</td>\n",
       "      <td>0</td>\n",
       "      <td>...</td>\n",
       "      <td>NaN</td>\n",
       "      <td>NaN</td>\n",
       "      <td>NaN</td>\n",
       "      <td>6XF1_D_C43</td>\n",
       "      <td>6XF1_D_43</td>\n",
       "      <td>6XF1_D</td>\n",
       "      <td>NaN</td>\n",
       "      <td>NaN</td>\n",
       "      <td>NaN</td>\n",
       "      <td>NaN</td>\n",
       "    </tr>\n",
       "    <tr>\n",
       "      <th>129386</th>\n",
       "      <td>Q9Y613</td>\n",
       "      <td>6XF1</td>\n",
       "      <td>2</td>\n",
       "      <td>2</td>\n",
       "      <td>2</td>\n",
       "      <td>4</td>\n",
       "      <td>0</td>\n",
       "      <td>NaN</td>\n",
       "      <td>0</td>\n",
       "      <td>0</td>\n",
       "      <td>...</td>\n",
       "      <td>NaN</td>\n",
       "      <td>NaN</td>\n",
       "      <td>NaN</td>\n",
       "      <td>6XF1_D_C71</td>\n",
       "      <td>6XF1_D_71</td>\n",
       "      <td>6XF1_D</td>\n",
       "      <td>NaN</td>\n",
       "      <td>NaN</td>\n",
       "      <td>NaN</td>\n",
       "      <td>NaN</td>\n",
       "    </tr>\n",
       "    <tr>\n",
       "      <th>129387</th>\n",
       "      <td>Q9Y613</td>\n",
       "      <td>6XF1</td>\n",
       "      <td>2</td>\n",
       "      <td>2</td>\n",
       "      <td>2</td>\n",
       "      <td>4</td>\n",
       "      <td>0</td>\n",
       "      <td>NaN</td>\n",
       "      <td>0</td>\n",
       "      <td>0</td>\n",
       "      <td>...</td>\n",
       "      <td>NaN</td>\n",
       "      <td>NaN</td>\n",
       "      <td>NaN</td>\n",
       "      <td>6XF1_D_C164</td>\n",
       "      <td>6XF1_D_164</td>\n",
       "      <td>6XF1_D</td>\n",
       "      <td>NaN</td>\n",
       "      <td>NaN</td>\n",
       "      <td>NaN</td>\n",
       "      <td>NaN</td>\n",
       "    </tr>\n",
       "    <tr>\n",
       "      <th>129388</th>\n",
       "      <td>Q9Y613</td>\n",
       "      <td>6XF1</td>\n",
       "      <td>2</td>\n",
       "      <td>2</td>\n",
       "      <td>2</td>\n",
       "      <td>4</td>\n",
       "      <td>0</td>\n",
       "      <td>NaN</td>\n",
       "      <td>0</td>\n",
       "      <td>0</td>\n",
       "      <td>...</td>\n",
       "      <td>NaN</td>\n",
       "      <td>NaN</td>\n",
       "      <td>NaN</td>\n",
       "      <td>6XF1_D_C211</td>\n",
       "      <td>6XF1_D_211</td>\n",
       "      <td>6XF1_D</td>\n",
       "      <td>NaN</td>\n",
       "      <td>NaN</td>\n",
       "      <td>NaN</td>\n",
       "      <td>NaN</td>\n",
       "    </tr>\n",
       "  </tbody>\n",
       "</table>\n",
       "<p>129389 rows × 43 columns</p>\n",
       "</div>"
      ],
      "text/plain": [
       "       protein   pdb  n_biomolecule  total_biomolecule  n_chainid  \\\n",
       "0       A5YKK6  4CRU              1                  1          2   \n",
       "1       A5YKK6  4CRU              1                  1          2   \n",
       "2       A5YKK6  4CRU              1                  1          2   \n",
       "3       A5YKK6  4CRU              1                  1          2   \n",
       "4       A5YKK6  4CRU              1                  1          2   \n",
       "...        ...   ...            ...                ...        ...   \n",
       "129384  Q9Y613  6XF1              2                  2          2   \n",
       "129385  Q9Y613  6XF1              2                  2          2   \n",
       "129386  Q9Y613  6XF1              2                  2          2   \n",
       "129387  Q9Y613  6XF1              2                  2          2   \n",
       "129388  Q9Y613  6XF1              2                  2          2   \n",
       "\n",
       "        total_chainid  total_duplicated_chains chainids_corrected  \\\n",
       "0                   2                        0                NaN   \n",
       "1                   2                        0                NaN   \n",
       "2                   2                        0                NaN   \n",
       "3                   2                        0                NaN   \n",
       "4                   2                        0                NaN   \n",
       "...               ...                      ...                ...   \n",
       "129384              4                        0                NaN   \n",
       "129385              4                        0                NaN   \n",
       "129386              4                        0                NaN   \n",
       "129387              4                        0                NaN   \n",
       "129388              4                        0                NaN   \n",
       "\n",
       "        n_terminus_disorder  c_terminus_disorder  ...  uniprot_resid  \\\n",
       "0                         4                    3  ...            NaN   \n",
       "1                         4                    3  ...            NaN   \n",
       "2                         4                    3  ...            NaN   \n",
       "3                         4                    3  ...            NaN   \n",
       "4                         4                    3  ...            NaN   \n",
       "...                     ...                  ...  ...            ...   \n",
       "129384                    0                    0  ...           31.0   \n",
       "129385                    0                    0  ...            NaN   \n",
       "129386                    0                    0  ...            NaN   \n",
       "129387                    0                    0  ...            NaN   \n",
       "129388                    0                    0  ...            NaN   \n",
       "\n",
       "        ratio_mean  ratio_sd  pdb_identifier  structureid  \\\n",
       "0              NaN       NaN    4CRU_A_C1392  4CRU_A_1392   \n",
       "1              NaN       NaN    4CRU_A_C1420  4CRU_A_1420   \n",
       "2              NaN       NaN    4CRU_A_C1457  4CRU_A_1457   \n",
       "3              NaN       NaN    4CRU_A_C1500  4CRU_A_1500   \n",
       "4              NaN       NaN    4CRU_A_C1504  4CRU_A_1504   \n",
       "...            ...       ...             ...          ...   \n",
       "129384    6.370455  2.697119      6XF1_D_C31    6XF1_D_31   \n",
       "129385         NaN       NaN      6XF1_D_C43    6XF1_D_43   \n",
       "129386         NaN       NaN      6XF1_D_C71    6XF1_D_71   \n",
       "129387         NaN       NaN     6XF1_D_C164   6XF1_D_164   \n",
       "129388         NaN       NaN     6XF1_D_C211   6XF1_D_211   \n",
       "\n",
       "        pdb_chainid_identifier uniprot_identifier  reactivity  \\\n",
       "0                       4CRU_A                NaN         NaN   \n",
       "1                       4CRU_A                NaN         NaN   \n",
       "2                       4CRU_A                NaN         NaN   \n",
       "3                       4CRU_A                NaN         NaN   \n",
       "4                       4CRU_A                NaN         NaN   \n",
       "...                        ...                ...         ...   \n",
       "129384                  6XF1_D         Q9Y613_C31      Medium   \n",
       "129385                  6XF1_D                NaN         NaN   \n",
       "129386                  6XF1_D                NaN         NaN   \n",
       "129387                  6XF1_D                NaN         NaN   \n",
       "129388                  6XF1_D                NaN         NaN   \n",
       "\n",
       "              main_identifier        unique_identifier  \n",
       "0                         NaN                      NaN  \n",
       "1                         NaN                      NaN  \n",
       "2                         NaN                      NaN  \n",
       "3                         NaN                      NaN  \n",
       "4                         NaN                      NaN  \n",
       "...                       ...                      ...  \n",
       "129384  Q9Y613_C31_6XF1_D_C31  Q9Y613_C31_6XF1_D_C31_2  \n",
       "129385                    NaN                      NaN  \n",
       "129386                    NaN                      NaN  \n",
       "129387                    NaN                      NaN  \n",
       "129388                    NaN                      NaN  \n",
       "\n",
       "[129389 rows x 43 columns]"
      ]
     },
     "execution_count": 24,
     "metadata": {},
     "output_type": "execute_result"
    }
   ],
   "source": [
    "final_df"
   ]
  },
  {
   "cell_type": "code",
   "execution_count": 25,
   "id": "11d267fa",
   "metadata": {},
   "outputs": [
    {
     "data": {
      "text/plain": [
       "['protein',\n",
       " 'pdb',\n",
       " 'n_biomolecule',\n",
       " 'total_biomolecule',\n",
       " 'n_chainid',\n",
       " 'total_chainid',\n",
       " 'total_duplicated_chains',\n",
       " 'chainids_corrected',\n",
       " 'n_terminus_disorder',\n",
       " 'c_terminus_disorder',\n",
       " 'total_disorder',\n",
       " 'complete_seq',\n",
       " 'experiment',\n",
       " 'resolution',\n",
       " 'mutation',\n",
       " 'engineered',\n",
       " 'peptide',\n",
       " 'resid',\n",
       " 'chainid',\n",
       " 'reactive',\n",
       " 'ratio_count',\n",
       " 'complete_res',\n",
       " 'non_std_aa',\n",
       " 'hetero',\n",
       " 'ion',\n",
       " 'zinc',\n",
       " 'altloc',\n",
       " 'nucleic',\n",
       " 'extended',\n",
       " 'selected',\n",
       " 'complete',\n",
       " 'residue_selection',\n",
       " 'final_selection',\n",
       " 'uniprot_resid',\n",
       " 'ratio_mean',\n",
       " 'ratio_sd',\n",
       " 'pdb_identifier',\n",
       " 'structureid',\n",
       " 'pdb_chainid_identifier',\n",
       " 'uniprot_identifier',\n",
       " 'reactivity',\n",
       " 'main_identifier',\n",
       " 'unique_identifier']"
      ]
     },
     "execution_count": 25,
     "metadata": {},
     "output_type": "execute_result"
    }
   ],
   "source": [
    "final_df.columns.to_list()"
   ]
  },
  {
   "cell_type": "code",
   "execution_count": 26,
   "id": "be0a302b",
   "metadata": {},
   "outputs": [],
   "source": [
    "final_df = final_df[final_df['uniprot_identifier'].isna() == False]"
   ]
  },
  {
   "cell_type": "code",
   "execution_count": 27,
   "id": "f22e063d",
   "metadata": {},
   "outputs": [
    {
     "data": {
      "text/plain": [
       "(1519, 306)"
      ]
     },
     "execution_count": 27,
     "metadata": {},
     "output_type": "execute_result"
    }
   ],
   "source": [
    "h_final_df = final_df[final_df['reactivity'] == 'High']\n",
    "h_final_ids = list(h_final_df['pdb'].unique())\n",
    "h_final_c_ids = list(h_final_df['uniprot_identifier'].unique())\n",
    "len(h_final_ids), len(h_final_c_ids)"
   ]
  },
  {
   "cell_type": "code",
   "execution_count": 28,
   "id": "a4141924",
   "metadata": {},
   "outputs": [
    {
     "data": {
      "text/plain": [
       "(8639, 3120)"
      ]
     },
     "execution_count": 28,
     "metadata": {},
     "output_type": "execute_result"
    }
   ],
   "source": [
    "m_final_df = final_df[final_df['reactivity'] == 'Medium']\n",
    "m_final_ids = list(m_final_df['pdb'].unique())\n",
    "m_final_c_ids = list(m_final_df['uniprot_identifier'].unique())\n",
    "len(m_final_ids), len(m_final_c_ids)"
   ]
  },
  {
   "cell_type": "code",
   "execution_count": 29,
   "id": "254a4138",
   "metadata": {},
   "outputs": [
    {
     "data": {
      "text/plain": [
       "(1313, 297)"
      ]
     },
     "execution_count": 29,
     "metadata": {},
     "output_type": "execute_result"
    }
   ],
   "source": [
    "l_final_df = final_df[final_df['reactivity'] == 'Low']\n",
    "l_final_ids = list(l_final_df['pdb'].unique())\n",
    "l_final_c_ids = list(l_final_df['uniprot_identifier'].unique())\n",
    "len(l_final_ids), len(l_final_c_ids)"
   ]
  },
  {
   "cell_type": "markdown",
   "id": "e37dafea",
   "metadata": {},
   "source": [
    "# "
   ]
  },
  {
   "cell_type": "markdown",
   "id": "0a6e1d81",
   "metadata": {},
   "source": [
    "# Read Nonredundant "
   ]
  },
  {
   "cell_type": "code",
   "execution_count": 30,
   "id": "e00d1f5e",
   "metadata": {},
   "outputs": [],
   "source": [
    "nr_df = pd.read_csv('../data/isotop_training_nonredundant_complete_final_identifiers.csv')"
   ]
  },
  {
   "cell_type": "code",
   "execution_count": 31,
   "id": "5f629729",
   "metadata": {},
   "outputs": [
    {
     "data": {
      "text/html": [
       "<div>\n",
       "<style scoped>\n",
       "    .dataframe tbody tr th:only-of-type {\n",
       "        vertical-align: middle;\n",
       "    }\n",
       "\n",
       "    .dataframe tbody tr th {\n",
       "        vertical-align: top;\n",
       "    }\n",
       "\n",
       "    .dataframe thead th {\n",
       "        text-align: right;\n",
       "    }\n",
       "</style>\n",
       "<table border=\"1\" class=\"dataframe\">\n",
       "  <thead>\n",
       "    <tr style=\"text-align: right;\">\n",
       "      <th></th>\n",
       "      <th>protein</th>\n",
       "      <th>pdb</th>\n",
       "      <th>n_biomolecule</th>\n",
       "      <th>total_biomolecule</th>\n",
       "      <th>n_chainid</th>\n",
       "      <th>total_chainid</th>\n",
       "      <th>total_duplicated_chains</th>\n",
       "      <th>chainids_corrected</th>\n",
       "      <th>n_terminus_disorder</th>\n",
       "      <th>c_terminus_disorder</th>\n",
       "      <th>...</th>\n",
       "      <th>ratio_mean</th>\n",
       "      <th>ratio_sd</th>\n",
       "      <th>pdb_identifier</th>\n",
       "      <th>structureid</th>\n",
       "      <th>pdb_chainid_identifier</th>\n",
       "      <th>uniprot_identifier</th>\n",
       "      <th>reactivity</th>\n",
       "      <th>main_identifier</th>\n",
       "      <th>unique_identifier</th>\n",
       "      <th>pdbid</th>\n",
       "    </tr>\n",
       "  </thead>\n",
       "  <tbody>\n",
       "    <tr>\n",
       "      <th>0</th>\n",
       "      <td>A5YKK6</td>\n",
       "      <td>4CRU</td>\n",
       "      <td>1</td>\n",
       "      <td>1</td>\n",
       "      <td>2</td>\n",
       "      <td>2</td>\n",
       "      <td>0</td>\n",
       "      <td>NaN</td>\n",
       "      <td>4</td>\n",
       "      <td>3</td>\n",
       "      <td>...</td>\n",
       "      <td>3.308962</td>\n",
       "      <td>0.889566</td>\n",
       "      <td>4CRU_A_C1541</td>\n",
       "      <td>4CRU_A_1541</td>\n",
       "      <td>4CRU_A</td>\n",
       "      <td>A5YKK6_C1541</td>\n",
       "      <td>Medium</td>\n",
       "      <td>A5YKK6_C1541_4CRU_A_C1541</td>\n",
       "      <td>A5YKK6_C1541_4CRU_A_C1541_1</td>\n",
       "      <td>4CRU</td>\n",
       "    </tr>\n",
       "    <tr>\n",
       "      <th>1</th>\n",
       "      <td>A5YKK6</td>\n",
       "      <td>4CT7</td>\n",
       "      <td>1</td>\n",
       "      <td>1</td>\n",
       "      <td>2</td>\n",
       "      <td>2</td>\n",
       "      <td>0</td>\n",
       "      <td>NaN</td>\n",
       "      <td>0</td>\n",
       "      <td>7</td>\n",
       "      <td>...</td>\n",
       "      <td>3.308962</td>\n",
       "      <td>0.889566</td>\n",
       "      <td>4CT7_A_C1541</td>\n",
       "      <td>4CT7_A_1541</td>\n",
       "      <td>4CT7_A</td>\n",
       "      <td>A5YKK6_C1541</td>\n",
       "      <td>Medium</td>\n",
       "      <td>A5YKK6_C1541_4CT7_A_C1541</td>\n",
       "      <td>A5YKK6_C1541_4CT7_A_C1541_1</td>\n",
       "      <td>4CT7</td>\n",
       "    </tr>\n",
       "    <tr>\n",
       "      <th>2</th>\n",
       "      <td>A5YKK6</td>\n",
       "      <td>5ONA</td>\n",
       "      <td>1</td>\n",
       "      <td>2</td>\n",
       "      <td>3</td>\n",
       "      <td>6</td>\n",
       "      <td>0</td>\n",
       "      <td>NaN</td>\n",
       "      <td>8</td>\n",
       "      <td>2</td>\n",
       "      <td>...</td>\n",
       "      <td>3.308962</td>\n",
       "      <td>0.889566</td>\n",
       "      <td>5ONA_A_C1541</td>\n",
       "      <td>5ONA_A_1541</td>\n",
       "      <td>5ONA_A</td>\n",
       "      <td>A5YKK6_C1541</td>\n",
       "      <td>Medium</td>\n",
       "      <td>A5YKK6_C1541_5ONA_A_C1541</td>\n",
       "      <td>A5YKK6_C1541_5ONA_A_C1541_1</td>\n",
       "      <td>5ONA</td>\n",
       "    </tr>\n",
       "    <tr>\n",
       "      <th>3</th>\n",
       "      <td>O00139</td>\n",
       "      <td>2GRY</td>\n",
       "      <td>1</td>\n",
       "      <td>1</td>\n",
       "      <td>1</td>\n",
       "      <td>1</td>\n",
       "      <td>0</td>\n",
       "      <td>NaN</td>\n",
       "      <td>62</td>\n",
       "      <td>3</td>\n",
       "      <td>...</td>\n",
       "      <td>12.674860</td>\n",
       "      <td>9.113273</td>\n",
       "      <td>2GRY_A_C172</td>\n",
       "      <td>2GRY_A_172</td>\n",
       "      <td>2GRY_A</td>\n",
       "      <td>O00139_C199</td>\n",
       "      <td>Low</td>\n",
       "      <td>O00139_C199_2GRY_A_C172</td>\n",
       "      <td>O00139_C199_2GRY_A_C172_1</td>\n",
       "      <td>2GRY</td>\n",
       "    </tr>\n",
       "    <tr>\n",
       "      <th>4</th>\n",
       "      <td>O00139</td>\n",
       "      <td>2GRY</td>\n",
       "      <td>1</td>\n",
       "      <td>1</td>\n",
       "      <td>1</td>\n",
       "      <td>1</td>\n",
       "      <td>0</td>\n",
       "      <td>NaN</td>\n",
       "      <td>62</td>\n",
       "      <td>3</td>\n",
       "      <td>...</td>\n",
       "      <td>5.367091</td>\n",
       "      <td>1.570646</td>\n",
       "      <td>2GRY_A_C379</td>\n",
       "      <td>2GRY_A_379</td>\n",
       "      <td>2GRY_A</td>\n",
       "      <td>O00139_C406</td>\n",
       "      <td>Medium</td>\n",
       "      <td>O00139_C406_2GRY_A_C379</td>\n",
       "      <td>O00139_C406_2GRY_A_C379_1</td>\n",
       "      <td>2GRY</td>\n",
       "    </tr>\n",
       "    <tr>\n",
       "      <th>...</th>\n",
       "      <td>...</td>\n",
       "      <td>...</td>\n",
       "      <td>...</td>\n",
       "      <td>...</td>\n",
       "      <td>...</td>\n",
       "      <td>...</td>\n",
       "      <td>...</td>\n",
       "      <td>...</td>\n",
       "      <td>...</td>\n",
       "      <td>...</td>\n",
       "      <td>...</td>\n",
       "      <td>...</td>\n",
       "      <td>...</td>\n",
       "      <td>...</td>\n",
       "      <td>...</td>\n",
       "      <td>...</td>\n",
       "      <td>...</td>\n",
       "      <td>...</td>\n",
       "      <td>...</td>\n",
       "      <td>...</td>\n",
       "      <td>...</td>\n",
       "    </tr>\n",
       "    <tr>\n",
       "      <th>11276</th>\n",
       "      <td>Q9Y265</td>\n",
       "      <td>7OLE</td>\n",
       "      <td>1</td>\n",
       "      <td>1</td>\n",
       "      <td>9</td>\n",
       "      <td>9</td>\n",
       "      <td>0</td>\n",
       "      <td>NaN</td>\n",
       "      <td>0</td>\n",
       "      <td>0</td>\n",
       "      <td>...</td>\n",
       "      <td>15.604327</td>\n",
       "      <td>4.476462</td>\n",
       "      <td>7OLE_A_C239</td>\n",
       "      <td>7OLE_A_239</td>\n",
       "      <td>7OLE_A</td>\n",
       "      <td>Q9Y265_C141</td>\n",
       "      <td>Low</td>\n",
       "      <td>Q9Y265_C141_7OLE_A_C239</td>\n",
       "      <td>Q9Y265_C141_7OLE_A_C239_1</td>\n",
       "      <td>7OLE</td>\n",
       "    </tr>\n",
       "    <tr>\n",
       "      <th>11277</th>\n",
       "      <td>Q9Y230</td>\n",
       "      <td>7AHO</td>\n",
       "      <td>1</td>\n",
       "      <td>1</td>\n",
       "      <td>6</td>\n",
       "      <td>6</td>\n",
       "      <td>0</td>\n",
       "      <td>NaN</td>\n",
       "      <td>0</td>\n",
       "      <td>0</td>\n",
       "      <td>...</td>\n",
       "      <td>5.177512</td>\n",
       "      <td>1.182028</td>\n",
       "      <td>7AHO_F_C290</td>\n",
       "      <td>7AHO_F_290</td>\n",
       "      <td>7AHO_F</td>\n",
       "      <td>Q9Y230_C375</td>\n",
       "      <td>Medium</td>\n",
       "      <td>Q9Y230_C375_7AHO_F_C290</td>\n",
       "      <td>Q9Y230_C375_7AHO_F_C290_1</td>\n",
       "      <td>7AHO</td>\n",
       "    </tr>\n",
       "    <tr>\n",
       "      <th>11278</th>\n",
       "      <td>Q9Y265</td>\n",
       "      <td>7AHO</td>\n",
       "      <td>1</td>\n",
       "      <td>1</td>\n",
       "      <td>6</td>\n",
       "      <td>6</td>\n",
       "      <td>0</td>\n",
       "      <td>NaN</td>\n",
       "      <td>0</td>\n",
       "      <td>0</td>\n",
       "      <td>...</td>\n",
       "      <td>8.714663</td>\n",
       "      <td>4.104160</td>\n",
       "      <td>7AHO_A_C63</td>\n",
       "      <td>7AHO_A_63</td>\n",
       "      <td>7AHO_A</td>\n",
       "      <td>Q9Y265_C49</td>\n",
       "      <td>Medium</td>\n",
       "      <td>Q9Y265_C49_7AHO_A_C63</td>\n",
       "      <td>Q9Y265_C49_7AHO_A_C63_1</td>\n",
       "      <td>7AHO</td>\n",
       "    </tr>\n",
       "    <tr>\n",
       "      <th>11279</th>\n",
       "      <td>Q9Y3C8</td>\n",
       "      <td>7OVC</td>\n",
       "      <td>1</td>\n",
       "      <td>1</td>\n",
       "      <td>2</td>\n",
       "      <td>2</td>\n",
       "      <td>0</td>\n",
       "      <td>NaN</td>\n",
       "      <td>0</td>\n",
       "      <td>0</td>\n",
       "      <td>...</td>\n",
       "      <td>6.945282</td>\n",
       "      <td>2.090862</td>\n",
       "      <td>7OVC_A_C116</td>\n",
       "      <td>7OVC_A_116</td>\n",
       "      <td>7OVC_A</td>\n",
       "      <td>Q9Y3C8_C116</td>\n",
       "      <td>Medium</td>\n",
       "      <td>Q9Y3C8_C116_7OVC_A_C116</td>\n",
       "      <td>Q9Y3C8_C116_7OVC_A_C116_1</td>\n",
       "      <td>7OVC</td>\n",
       "    </tr>\n",
       "    <tr>\n",
       "      <th>11280</th>\n",
       "      <td>Q9Y613</td>\n",
       "      <td>6XF1</td>\n",
       "      <td>1</td>\n",
       "      <td>2</td>\n",
       "      <td>2</td>\n",
       "      <td>4</td>\n",
       "      <td>0</td>\n",
       "      <td>NaN</td>\n",
       "      <td>0</td>\n",
       "      <td>0</td>\n",
       "      <td>...</td>\n",
       "      <td>6.370455</td>\n",
       "      <td>2.697119</td>\n",
       "      <td>6XF1_B_C31</td>\n",
       "      <td>6XF1_B_31</td>\n",
       "      <td>6XF1_B</td>\n",
       "      <td>Q9Y613_C31</td>\n",
       "      <td>Medium</td>\n",
       "      <td>Q9Y613_C31_6XF1_B_C31</td>\n",
       "      <td>Q9Y613_C31_6XF1_B_C31_1</td>\n",
       "      <td>6XF1</td>\n",
       "    </tr>\n",
       "  </tbody>\n",
       "</table>\n",
       "<p>11281 rows × 44 columns</p>\n",
       "</div>"
      ],
      "text/plain": [
       "      protein   pdb  n_biomolecule  total_biomolecule  n_chainid  \\\n",
       "0      A5YKK6  4CRU              1                  1          2   \n",
       "1      A5YKK6  4CT7              1                  1          2   \n",
       "2      A5YKK6  5ONA              1                  2          3   \n",
       "3      O00139  2GRY              1                  1          1   \n",
       "4      O00139  2GRY              1                  1          1   \n",
       "...       ...   ...            ...                ...        ...   \n",
       "11276  Q9Y265  7OLE              1                  1          9   \n",
       "11277  Q9Y230  7AHO              1                  1          6   \n",
       "11278  Q9Y265  7AHO              1                  1          6   \n",
       "11279  Q9Y3C8  7OVC              1                  1          2   \n",
       "11280  Q9Y613  6XF1              1                  2          2   \n",
       "\n",
       "       total_chainid  total_duplicated_chains chainids_corrected  \\\n",
       "0                  2                        0                NaN   \n",
       "1                  2                        0                NaN   \n",
       "2                  6                        0                NaN   \n",
       "3                  1                        0                NaN   \n",
       "4                  1                        0                NaN   \n",
       "...              ...                      ...                ...   \n",
       "11276              9                        0                NaN   \n",
       "11277              6                        0                NaN   \n",
       "11278              6                        0                NaN   \n",
       "11279              2                        0                NaN   \n",
       "11280              4                        0                NaN   \n",
       "\n",
       "       n_terminus_disorder  c_terminus_disorder  ...  ratio_mean  ratio_sd  \\\n",
       "0                        4                    3  ...    3.308962  0.889566   \n",
       "1                        0                    7  ...    3.308962  0.889566   \n",
       "2                        8                    2  ...    3.308962  0.889566   \n",
       "3                       62                    3  ...   12.674860  9.113273   \n",
       "4                       62                    3  ...    5.367091  1.570646   \n",
       "...                    ...                  ...  ...         ...       ...   \n",
       "11276                    0                    0  ...   15.604327  4.476462   \n",
       "11277                    0                    0  ...    5.177512  1.182028   \n",
       "11278                    0                    0  ...    8.714663  4.104160   \n",
       "11279                    0                    0  ...    6.945282  2.090862   \n",
       "11280                    0                    0  ...    6.370455  2.697119   \n",
       "\n",
       "      pdb_identifier  structureid  pdb_chainid_identifier  uniprot_identifier  \\\n",
       "0       4CRU_A_C1541  4CRU_A_1541                  4CRU_A        A5YKK6_C1541   \n",
       "1       4CT7_A_C1541  4CT7_A_1541                  4CT7_A        A5YKK6_C1541   \n",
       "2       5ONA_A_C1541  5ONA_A_1541                  5ONA_A        A5YKK6_C1541   \n",
       "3        2GRY_A_C172   2GRY_A_172                  2GRY_A         O00139_C199   \n",
       "4        2GRY_A_C379   2GRY_A_379                  2GRY_A         O00139_C406   \n",
       "...              ...          ...                     ...                 ...   \n",
       "11276    7OLE_A_C239   7OLE_A_239                  7OLE_A         Q9Y265_C141   \n",
       "11277    7AHO_F_C290   7AHO_F_290                  7AHO_F         Q9Y230_C375   \n",
       "11278     7AHO_A_C63    7AHO_A_63                  7AHO_A          Q9Y265_C49   \n",
       "11279    7OVC_A_C116   7OVC_A_116                  7OVC_A         Q9Y3C8_C116   \n",
       "11280     6XF1_B_C31    6XF1_B_31                  6XF1_B          Q9Y613_C31   \n",
       "\n",
       "      reactivity            main_identifier            unique_identifier  \\\n",
       "0         Medium  A5YKK6_C1541_4CRU_A_C1541  A5YKK6_C1541_4CRU_A_C1541_1   \n",
       "1         Medium  A5YKK6_C1541_4CT7_A_C1541  A5YKK6_C1541_4CT7_A_C1541_1   \n",
       "2         Medium  A5YKK6_C1541_5ONA_A_C1541  A5YKK6_C1541_5ONA_A_C1541_1   \n",
       "3            Low    O00139_C199_2GRY_A_C172    O00139_C199_2GRY_A_C172_1   \n",
       "4         Medium    O00139_C406_2GRY_A_C379    O00139_C406_2GRY_A_C379_1   \n",
       "...          ...                        ...                          ...   \n",
       "11276        Low    Q9Y265_C141_7OLE_A_C239    Q9Y265_C141_7OLE_A_C239_1   \n",
       "11277     Medium    Q9Y230_C375_7AHO_F_C290    Q9Y230_C375_7AHO_F_C290_1   \n",
       "11278     Medium      Q9Y265_C49_7AHO_A_C63      Q9Y265_C49_7AHO_A_C63_1   \n",
       "11279     Medium    Q9Y3C8_C116_7OVC_A_C116    Q9Y3C8_C116_7OVC_A_C116_1   \n",
       "11280     Medium      Q9Y613_C31_6XF1_B_C31      Q9Y613_C31_6XF1_B_C31_1   \n",
       "\n",
       "       pdbid  \n",
       "0       4CRU  \n",
       "1       4CT7  \n",
       "2       5ONA  \n",
       "3       2GRY  \n",
       "4       2GRY  \n",
       "...      ...  \n",
       "11276   7OLE  \n",
       "11277   7AHO  \n",
       "11278   7AHO  \n",
       "11279   7OVC  \n",
       "11280   6XF1  \n",
       "\n",
       "[11281 rows x 44 columns]"
      ]
     },
     "execution_count": 31,
     "metadata": {},
     "output_type": "execute_result"
    }
   ],
   "source": [
    "nr_df"
   ]
  },
  {
   "cell_type": "code",
   "execution_count": 32,
   "id": "399b3ab0",
   "metadata": {},
   "outputs": [
    {
     "data": {
      "text/plain": [
       "3845"
      ]
     },
     "execution_count": 32,
     "metadata": {},
     "output_type": "execute_result"
    }
   ],
   "source": [
    "len(nr_df['pdb'].unique())"
   ]
  },
  {
   "cell_type": "code",
   "execution_count": 33,
   "id": "90c7501d",
   "metadata": {},
   "outputs": [
    {
     "data": {
      "text/plain": [
       "(644, 306)"
      ]
     },
     "execution_count": 33,
     "metadata": {},
     "output_type": "execute_result"
    }
   ],
   "source": [
    "h_nr_df = nr_df[nr_df['reactivity'] == 'High']\n",
    "h_nr_ids = list(h_nr_df['pdb'].unique())\n",
    "h_nr_c_ids = list(h_nr_df['uniprot_identifier'].unique())\n",
    "len(h_nr_ids), len(h_nr_c_ids)"
   ]
  },
  {
   "cell_type": "code",
   "execution_count": 34,
   "id": "a4b3dd53",
   "metadata": {},
   "outputs": [
    {
     "data": {
      "text/plain": [
       "(3492, 3120)"
      ]
     },
     "execution_count": 34,
     "metadata": {},
     "output_type": "execute_result"
    }
   ],
   "source": [
    "m_nr_df = nr_df[nr_df['reactivity'] == 'Medium']\n",
    "m_nr_ids = list(m_nr_df['pdb'].unique())\n",
    "m_nr_c_ids = list(m_nr_df['uniprot_identifier'].unique())\n",
    "len(m_nr_ids), len(m_nr_c_ids)"
   ]
  },
  {
   "cell_type": "code",
   "execution_count": 35,
   "id": "53b52b24",
   "metadata": {},
   "outputs": [
    {
     "data": {
      "text/plain": [
       "(662, 297)"
      ]
     },
     "execution_count": 35,
     "metadata": {},
     "output_type": "execute_result"
    }
   ],
   "source": [
    "l_nr_df = nr_df[nr_df['reactivity'] == 'Low']\n",
    "l_nr_ids = list(l_nr_df['pdb'].unique())\n",
    "l_nr_c_ids = list(l_nr_df['uniprot_identifier'].unique())\n",
    "len(l_nr_ids), len(l_nr_c_ids)"
   ]
  },
  {
   "cell_type": "code",
   "execution_count": 36,
   "id": "99de373f",
   "metadata": {},
   "outputs": [
    {
     "data": {
      "text/plain": [
       "1179"
      ]
     },
     "execution_count": 36,
     "metadata": {},
     "output_type": "execute_result"
    }
   ],
   "source": [
    "hl_ids = list(set(h_nr_ids + l_nr_ids))\n",
    "len(hl_ids)"
   ]
  },
  {
   "cell_type": "markdown",
   "id": "7cf06980-ad4c-4f39-9512-e5211cc8d37e",
   "metadata": {},
   "source": [
    "# "
   ]
  },
  {
   "cell_type": "markdown",
   "id": "c196d84c-ed99-449a-84c2-9bcf34ee05d7",
   "metadata": {},
   "source": [
    "# Read PDB Meric State"
   ]
  },
  {
   "cell_type": "code",
   "execution_count": 37,
   "id": "13bb560f-2c3a-48d1-8a18-b35c00685b0a",
   "metadata": {},
   "outputs": [],
   "source": [
    "meric_state = pd.read_csv('../data/isotop_pdb_meric_state.csv')"
   ]
  },
  {
   "cell_type": "code",
   "execution_count": 38,
   "id": "549211f1-90d7-4a5f-9e91-7fa4409e6940",
   "metadata": {},
   "outputs": [
    {
     "data": {
      "text/plain": [
       "(1774, 6)"
      ]
     },
     "execution_count": 38,
     "metadata": {},
     "output_type": "execute_result"
    }
   ],
   "source": [
    "meric_state.shape"
   ]
  },
  {
   "cell_type": "code",
   "execution_count": 39,
   "id": "3ded6550-1eb6-4fa8-be1f-06c80aa6cc60",
   "metadata": {},
   "outputs": [
    {
     "data": {
      "text/html": [
       "<div>\n",
       "<style scoped>\n",
       "    .dataframe tbody tr th:only-of-type {\n",
       "        vertical-align: middle;\n",
       "    }\n",
       "\n",
       "    .dataframe tbody tr th {\n",
       "        vertical-align: top;\n",
       "    }\n",
       "\n",
       "    .dataframe thead th {\n",
       "        text-align: right;\n",
       "    }\n",
       "</style>\n",
       "<table border=\"1\" class=\"dataframe\">\n",
       "  <thead>\n",
       "    <tr style=\"text-align: right;\">\n",
       "      <th></th>\n",
       "      <th>pdb</th>\n",
       "      <th>reactivity</th>\n",
       "      <th>0</th>\n",
       "      <th>pdbid</th>\n",
       "      <th>biological_unit</th>\n",
       "      <th>unit</th>\n",
       "    </tr>\n",
       "  </thead>\n",
       "  <tbody>\n",
       "    <tr>\n",
       "      <th>0</th>\n",
       "      <td>3LFL</td>\n",
       "      <td>High</td>\n",
       "      <td>reduced_3lfl.pdb:REMARK 350 AUTHOR DETERMINED ...</td>\n",
       "      <td>3LFL</td>\n",
       "      <td>DIMERIC</td>\n",
       "      <td>DIMERIC</td>\n",
       "    </tr>\n",
       "    <tr>\n",
       "      <th>1</th>\n",
       "      <td>5CVD</td>\n",
       "      <td>High</td>\n",
       "      <td>reduced_5cvd.pdb:REMARK 350 AUTHOR DETERMINED ...</td>\n",
       "      <td>5CVD</td>\n",
       "      <td>DIMERIC</td>\n",
       "      <td>DIMERIC</td>\n",
       "    </tr>\n",
       "    <tr>\n",
       "      <th>2</th>\n",
       "      <td>4WJA</td>\n",
       "      <td>High</td>\n",
       "      <td>reduced_4wja.pdb:REMARK 350 AUTHOR DETERMINED ...</td>\n",
       "      <td>4WJA</td>\n",
       "      <td>DIMERIC</td>\n",
       "      <td>DIMERIC</td>\n",
       "    </tr>\n",
       "    <tr>\n",
       "      <th>3</th>\n",
       "      <td>4O56</td>\n",
       "      <td>High</td>\n",
       "      <td>reduced_4o56.pdb:REMARK 350 AUTHOR DETERMINED ...</td>\n",
       "      <td>4O56</td>\n",
       "      <td>DIMERIC</td>\n",
       "      <td>DIMERIC</td>\n",
       "    </tr>\n",
       "    <tr>\n",
       "      <th>4</th>\n",
       "      <td>5J19</td>\n",
       "      <td>High</td>\n",
       "      <td>reduced_5j19.pdb:REMARK 350 AUTHOR DETERMINED ...</td>\n",
       "      <td>5J19</td>\n",
       "      <td>DIMERIC</td>\n",
       "      <td>DIMERIC</td>\n",
       "    </tr>\n",
       "    <tr>\n",
       "      <th>...</th>\n",
       "      <td>...</td>\n",
       "      <td>...</td>\n",
       "      <td>...</td>\n",
       "      <td>...</td>\n",
       "      <td>...</td>\n",
       "      <td>...</td>\n",
       "    </tr>\n",
       "    <tr>\n",
       "      <th>1769</th>\n",
       "      <td>5GL7</td>\n",
       "      <td>Low</td>\n",
       "      <td>reduced_5gl7.pdb:REMARK 350 AUTHOR DETERMINED ...</td>\n",
       "      <td>5GL7</td>\n",
       "      <td>MONOMERIC</td>\n",
       "      <td>MONOMERIC</td>\n",
       "    </tr>\n",
       "    <tr>\n",
       "      <th>1770</th>\n",
       "      <td>3DLX</td>\n",
       "      <td>Low</td>\n",
       "      <td>reduced_3dlx.pdb:REMARK 350 AUTHOR DETERMINED ...</td>\n",
       "      <td>3DLX</td>\n",
       "      <td>DIMERIC</td>\n",
       "      <td>DIMERIC</td>\n",
       "    </tr>\n",
       "    <tr>\n",
       "      <th>1771</th>\n",
       "      <td>3DLX</td>\n",
       "      <td>Low</td>\n",
       "      <td>reduced_3dlx.pdb:REMARK 350 AUTHOR DETERMINED ...</td>\n",
       "      <td>3DLX</td>\n",
       "      <td>DIMERIC</td>\n",
       "      <td>DIMERIC</td>\n",
       "    </tr>\n",
       "    <tr>\n",
       "      <th>1772</th>\n",
       "      <td>1AJE</td>\n",
       "      <td>Low</td>\n",
       "      <td>reduced_1aje.pdb:REMARK 350 AUTHOR DETERMINED ...</td>\n",
       "      <td>1AJE</td>\n",
       "      <td>MONOMERIC</td>\n",
       "      <td>MONOMERIC</td>\n",
       "    </tr>\n",
       "    <tr>\n",
       "      <th>1773</th>\n",
       "      <td>7OLE</td>\n",
       "      <td>Low</td>\n",
       "      <td>reduced_7ole.pdb:REMARK 350 AUTHOR DETERMINED ...</td>\n",
       "      <td>7OLE</td>\n",
       "      <td>NONAMERIC</td>\n",
       "      <td>MULTIMERIC</td>\n",
       "    </tr>\n",
       "  </tbody>\n",
       "</table>\n",
       "<p>1774 rows × 6 columns</p>\n",
       "</div>"
      ],
      "text/plain": [
       "       pdb reactivity                                                  0  \\\n",
       "0     3LFL       High  reduced_3lfl.pdb:REMARK 350 AUTHOR DETERMINED ...   \n",
       "1     5CVD       High  reduced_5cvd.pdb:REMARK 350 AUTHOR DETERMINED ...   \n",
       "2     4WJA       High  reduced_4wja.pdb:REMARK 350 AUTHOR DETERMINED ...   \n",
       "3     4O56       High  reduced_4o56.pdb:REMARK 350 AUTHOR DETERMINED ...   \n",
       "4     5J19       High  reduced_5j19.pdb:REMARK 350 AUTHOR DETERMINED ...   \n",
       "...    ...        ...                                                ...   \n",
       "1769  5GL7        Low  reduced_5gl7.pdb:REMARK 350 AUTHOR DETERMINED ...   \n",
       "1770  3DLX        Low  reduced_3dlx.pdb:REMARK 350 AUTHOR DETERMINED ...   \n",
       "1771  3DLX        Low  reduced_3dlx.pdb:REMARK 350 AUTHOR DETERMINED ...   \n",
       "1772  1AJE        Low  reduced_1aje.pdb:REMARK 350 AUTHOR DETERMINED ...   \n",
       "1773  7OLE        Low  reduced_7ole.pdb:REMARK 350 AUTHOR DETERMINED ...   \n",
       "\n",
       "     pdbid biological_unit        unit  \n",
       "0     3LFL         DIMERIC     DIMERIC  \n",
       "1     5CVD         DIMERIC     DIMERIC  \n",
       "2     4WJA         DIMERIC     DIMERIC  \n",
       "3     4O56         DIMERIC     DIMERIC  \n",
       "4     5J19         DIMERIC     DIMERIC  \n",
       "...    ...             ...         ...  \n",
       "1769  5GL7       MONOMERIC   MONOMERIC  \n",
       "1770  3DLX         DIMERIC     DIMERIC  \n",
       "1771  3DLX         DIMERIC     DIMERIC  \n",
       "1772  1AJE       MONOMERIC   MONOMERIC  \n",
       "1773  7OLE       NONAMERIC  MULTIMERIC  \n",
       "\n",
       "[1774 rows x 6 columns]"
      ]
     },
     "execution_count": 39,
     "metadata": {},
     "output_type": "execute_result"
    }
   ],
   "source": [
    "meric_state"
   ]
  },
  {
   "cell_type": "markdown",
   "id": "07f88fbc",
   "metadata": {},
   "source": [
    "# "
   ]
  },
  {
   "cell_type": "markdown",
   "id": "81b546d5",
   "metadata": {},
   "source": [
    "# Plot Number of Cysetines Experimentally Identified, Assoc. with a PDB, Resolved in a PDB, and in the Training Set"
   ]
  },
  {
   "cell_type": "code",
   "execution_count": 40,
   "id": "05fd15ee",
   "metadata": {},
   "outputs": [],
   "source": [
    "labels = ['High', 'Low', 'High', 'Low', 'High', 'Low', 'High', 'Low']\n",
    "groups = ['Experimentally\\nIdentified', 'Experimentally\\nIdentified', 'Associated\\nwith a PDB', 'Associated\\nwith a PDB', 'Resolved\\nin a PDB', 'Resolved\\nin a PDB', 'Training\\nSet', 'Training\\nSet']\n",
    "values = [823, 996, 554, 700, 345, 322, 306, 297]\n",
    "grouped_df = pd.DataFrame()\n",
    "grouped_df['Reactivity'] = labels\n",
    "grouped_df['Dataset'] = groups\n",
    "grouped_df['Count'] = values"
   ]
  },
  {
   "cell_type": "code",
   "execution_count": 41,
   "id": "a77bc4b3",
   "metadata": {},
   "outputs": [
    {
     "data": {
      "text/html": [
       "<div>\n",
       "<style scoped>\n",
       "    .dataframe tbody tr th:only-of-type {\n",
       "        vertical-align: middle;\n",
       "    }\n",
       "\n",
       "    .dataframe tbody tr th {\n",
       "        vertical-align: top;\n",
       "    }\n",
       "\n",
       "    .dataframe thead th {\n",
       "        text-align: right;\n",
       "    }\n",
       "</style>\n",
       "<table border=\"1\" class=\"dataframe\">\n",
       "  <thead>\n",
       "    <tr style=\"text-align: right;\">\n",
       "      <th></th>\n",
       "      <th>Reactivity</th>\n",
       "      <th>Dataset</th>\n",
       "      <th>Count</th>\n",
       "    </tr>\n",
       "  </thead>\n",
       "  <tbody>\n",
       "    <tr>\n",
       "      <th>0</th>\n",
       "      <td>High</td>\n",
       "      <td>Experimentally\\nIdentified</td>\n",
       "      <td>823</td>\n",
       "    </tr>\n",
       "    <tr>\n",
       "      <th>1</th>\n",
       "      <td>Low</td>\n",
       "      <td>Experimentally\\nIdentified</td>\n",
       "      <td>996</td>\n",
       "    </tr>\n",
       "    <tr>\n",
       "      <th>2</th>\n",
       "      <td>High</td>\n",
       "      <td>Associated\\nwith a PDB</td>\n",
       "      <td>554</td>\n",
       "    </tr>\n",
       "    <tr>\n",
       "      <th>3</th>\n",
       "      <td>Low</td>\n",
       "      <td>Associated\\nwith a PDB</td>\n",
       "      <td>700</td>\n",
       "    </tr>\n",
       "    <tr>\n",
       "      <th>4</th>\n",
       "      <td>High</td>\n",
       "      <td>Resolved\\nin a PDB</td>\n",
       "      <td>345</td>\n",
       "    </tr>\n",
       "    <tr>\n",
       "      <th>5</th>\n",
       "      <td>Low</td>\n",
       "      <td>Resolved\\nin a PDB</td>\n",
       "      <td>322</td>\n",
       "    </tr>\n",
       "    <tr>\n",
       "      <th>6</th>\n",
       "      <td>High</td>\n",
       "      <td>Training\\nSet</td>\n",
       "      <td>306</td>\n",
       "    </tr>\n",
       "    <tr>\n",
       "      <th>7</th>\n",
       "      <td>Low</td>\n",
       "      <td>Training\\nSet</td>\n",
       "      <td>297</td>\n",
       "    </tr>\n",
       "  </tbody>\n",
       "</table>\n",
       "</div>"
      ],
      "text/plain": [
       "  Reactivity                     Dataset  Count\n",
       "0       High  Experimentally\\nIdentified    823\n",
       "1        Low  Experimentally\\nIdentified    996\n",
       "2       High      Associated\\nwith a PDB    554\n",
       "3        Low      Associated\\nwith a PDB    700\n",
       "4       High          Resolved\\nin a PDB    345\n",
       "5        Low          Resolved\\nin a PDB    322\n",
       "6       High               Training\\nSet    306\n",
       "7        Low               Training\\nSet    297"
      ]
     },
     "execution_count": 41,
     "metadata": {},
     "output_type": "execute_result"
    }
   ],
   "source": [
    "grouped_df"
   ]
  },
  {
   "cell_type": "code",
   "execution_count": 42,
   "id": "c8e4f1e9",
   "metadata": {},
   "outputs": [
    {
     "data": {
      "image/png": "[encoded data removed]",
      "text/plain": [
       "<Figure size 800x800 with 1 Axes>"
      ]
     },
     "metadata": {},
     "output_type": "display_data"
    }
   ],
   "source": [
    "fig = figure(figsize = (8,8))\n",
    "g = sns.barplot(\n",
    "    data=grouped_df, \n",
    "    x=\"Count\", y=\"Dataset\", hue = 'Reactivity',\n",
    "    palette = {\n",
    "        'High': '#dd0426',\n",
    "        'Low': '#449dd1'\n",
    "    }\n",
    ")\n",
    "\n",
    "plt.ylabel('', size = 20)\n",
    "plt.xlabel('No. of Unique Cysteines', size = 20)\n",
    "plt.xticks(size = 20)\n",
    "plt.yticks(size = 20)\n",
    "\n",
    "plt.legend(frameon = False, fontsize=20, title = 'Reactivity', title_fontsize = 20)\n",
    "\n",
    "plt.show()"
   ]
  },
  {
   "cell_type": "markdown",
   "id": "870dea64-43ee-42cf-9f8b-b23a54276264",
   "metadata": {},
   "source": [
    "# "
   ]
  },
  {
   "cell_type": "markdown",
   "id": "89117f99-6331-4c09-be2a-e665a6158a3d",
   "metadata": {},
   "source": [
    "# Plot Number of PDBs Assoc. with Experimentally Identified Proteins, with Experimentally Identified Cysteine Resolved, with Experimentally Identified Cysteine Not Mutated in Assoc. PDB, and PDB in the Training Set"
   ]
  },
  {
   "cell_type": "code",
   "execution_count": 43,
   "id": "a0fd76c1",
   "metadata": {},
   "outputs": [],
   "source": [
    "labels = ['High', 'Low', 'High', 'Low', 'High', 'Low', 'High', 'Low']\n",
    "groups = ['Protein\\nis Associated\\nwith PDB', 'Protein\\nis Associated\\nwith PDB', 'Cysteine\\nis Resolved\\nin PDB', 'Cysteine\\nis Resolved\\nin PDB', 'Cysteine\\nis not Mutated\\nin PDB', 'Cysteine\\nis not Mutated\\nin PDB', 'Training\\nSet', 'Training\\nSet']\n",
    "values = [4706, 5540, 1998, 1753, 1519, 1313, 644, 662]\n",
    "grouped_df = pd.DataFrame()\n",
    "grouped_df['Reactivity'] = labels\n",
    "grouped_df['Dataset'] = groups\n",
    "grouped_df['Count'] = values"
   ]
  },
  {
   "cell_type": "code",
   "execution_count": 44,
   "id": "82502b46",
   "metadata": {},
   "outputs": [
    {
     "data": {
      "text/html": [
       "<div>\n",
       "<style scoped>\n",
       "    .dataframe tbody tr th:only-of-type {\n",
       "        vertical-align: middle;\n",
       "    }\n",
       "\n",
       "    .dataframe tbody tr th {\n",
       "        vertical-align: top;\n",
       "    }\n",
       "\n",
       "    .dataframe thead th {\n",
       "        text-align: right;\n",
       "    }\n",
       "</style>\n",
       "<table border=\"1\" class=\"dataframe\">\n",
       "  <thead>\n",
       "    <tr style=\"text-align: right;\">\n",
       "      <th></th>\n",
       "      <th>Reactivity</th>\n",
       "      <th>Dataset</th>\n",
       "      <th>Count</th>\n",
       "    </tr>\n",
       "  </thead>\n",
       "  <tbody>\n",
       "    <tr>\n",
       "      <th>0</th>\n",
       "      <td>High</td>\n",
       "      <td>Protein\\nis Associated\\nwith PDB</td>\n",
       "      <td>4706</td>\n",
       "    </tr>\n",
       "    <tr>\n",
       "      <th>1</th>\n",
       "      <td>Low</td>\n",
       "      <td>Protein\\nis Associated\\nwith PDB</td>\n",
       "      <td>5540</td>\n",
       "    </tr>\n",
       "    <tr>\n",
       "      <th>2</th>\n",
       "      <td>High</td>\n",
       "      <td>Cysteine\\nis Resolved\\nin PDB</td>\n",
       "      <td>1998</td>\n",
       "    </tr>\n",
       "    <tr>\n",
       "      <th>3</th>\n",
       "      <td>Low</td>\n",
       "      <td>Cysteine\\nis Resolved\\nin PDB</td>\n",
       "      <td>1753</td>\n",
       "    </tr>\n",
       "    <tr>\n",
       "      <th>4</th>\n",
       "      <td>High</td>\n",
       "      <td>Cysteine\\nis not Mutated\\nin PDB</td>\n",
       "      <td>1519</td>\n",
       "    </tr>\n",
       "    <tr>\n",
       "      <th>5</th>\n",
       "      <td>Low</td>\n",
       "      <td>Cysteine\\nis not Mutated\\nin PDB</td>\n",
       "      <td>1313</td>\n",
       "    </tr>\n",
       "    <tr>\n",
       "      <th>6</th>\n",
       "      <td>High</td>\n",
       "      <td>Training\\nSet</td>\n",
       "      <td>644</td>\n",
       "    </tr>\n",
       "    <tr>\n",
       "      <th>7</th>\n",
       "      <td>Low</td>\n",
       "      <td>Training\\nSet</td>\n",
       "      <td>662</td>\n",
       "    </tr>\n",
       "  </tbody>\n",
       "</table>\n",
       "</div>"
      ],
      "text/plain": [
       "  Reactivity                           Dataset  Count\n",
       "0       High  Protein\\nis Associated\\nwith PDB   4706\n",
       "1        Low  Protein\\nis Associated\\nwith PDB   5540\n",
       "2       High     Cysteine\\nis Resolved\\nin PDB   1998\n",
       "3        Low     Cysteine\\nis Resolved\\nin PDB   1753\n",
       "4       High  Cysteine\\nis not Mutated\\nin PDB   1519\n",
       "5        Low  Cysteine\\nis not Mutated\\nin PDB   1313\n",
       "6       High                     Training\\nSet    644\n",
       "7        Low                     Training\\nSet    662"
      ]
     },
     "execution_count": 44,
     "metadata": {},
     "output_type": "execute_result"
    }
   ],
   "source": [
    "grouped_df"
   ]
  },
  {
   "cell_type": "code",
   "execution_count": 45,
   "id": "e5ab66ea",
   "metadata": {},
   "outputs": [
    {
     "data": {
      "image/png": "[encoded data removed]",
      "text/plain": [
       "<Figure size 800x800 with 1 Axes>"
      ]
     },
     "metadata": {},
     "output_type": "display_data"
    }
   ],
   "source": [
    "fig = figure(figsize = (8,8))\n",
    "\n",
    "g = sns.barplot(\n",
    "    data=grouped_df, \n",
    "    y=\"Dataset\", x=\"Count\", hue = 'Reactivity',\n",
    "    palette = {\n",
    "        'High': '#dd0426',\n",
    "        'Low': '#449dd1'\n",
    "    }\n",
    ")\n",
    "\n",
    "plt.ylabel('', size = 20)\n",
    "plt.xlabel('No. of Unique PDBs', size = 20)\n",
    "plt.xticks(size = 20)\n",
    "plt.yticks(size = 20)\n",
    "\n",
    "plt.legend(frameon = False, fontsize=20, title = 'Reactivity', title_fontsize = 20)\n",
    "\n",
    "plt.show()"
   ]
  },
  {
   "cell_type": "markdown",
   "id": "d3cf54c5",
   "metadata": {},
   "source": [
    "# "
   ]
  },
  {
   "cell_type": "markdown",
   "id": "ac87ff3e",
   "metadata": {},
   "source": [
    "# Calculate the Number of PDBs per Protein"
   ]
  },
  {
   "cell_type": "code",
   "execution_count": 46,
   "id": "0597083c",
   "metadata": {},
   "outputs": [],
   "source": [
    "nr_pdb_pro_df = nr_df[['protein', 'pdb']].drop_duplicates()\n",
    "nr_pdb_pro_df['count'] = 1"
   ]
  },
  {
   "cell_type": "code",
   "execution_count": 47,
   "id": "dfdacb0d",
   "metadata": {},
   "outputs": [],
   "source": [
    "extreme_nr_df = nr_df[(nr_df['reactivity'] != 'Medium')]\n",
    "extreme_nr_ext_pdb_pro_df = extreme_nr_df[['protein', 'pdb']].drop_duplicates()\n",
    "extreme_nr_ext_pdb_pro_df['count'] = 1\n",
    "ext_pdb_pro_df = pd.DataFrame(extreme_nr_ext_pdb_pro_df.groupby(['protein'])['count'].sum())"
   ]
  },
  {
   "cell_type": "code",
   "execution_count": 48,
   "id": "017c3fe7",
   "metadata": {},
   "outputs": [],
   "source": [
    "ext_protein_counts = ext_pdb_pro_df['count'].value_counts().to_list()\n",
    "ext_pdb_counts = ext_pdb_pro_df['count'].value_counts().index.to_list()\n",
    "ext_pdb_counts_df = pd.DataFrame()\n",
    "ext_pdb_counts_df['PDB_Count'] = ext_pdb_counts\n",
    "ext_pdb_counts_df['Protein_Count'] = ext_protein_counts"
   ]
  },
  {
   "cell_type": "code",
   "execution_count": 49,
   "id": "64ce681f",
   "metadata": {},
   "outputs": [
    {
     "data": {
      "text/html": [
       "<div>\n",
       "<style scoped>\n",
       "    .dataframe tbody tr th:only-of-type {\n",
       "        vertical-align: middle;\n",
       "    }\n",
       "\n",
       "    .dataframe tbody tr th {\n",
       "        vertical-align: top;\n",
       "    }\n",
       "\n",
       "    .dataframe thead th {\n",
       "        text-align: right;\n",
       "    }\n",
       "</style>\n",
       "<table border=\"1\" class=\"dataframe\">\n",
       "  <thead>\n",
       "    <tr style=\"text-align: right;\">\n",
       "      <th></th>\n",
       "      <th>PDB_Count</th>\n",
       "      <th>Protein_Count</th>\n",
       "    </tr>\n",
       "  </thead>\n",
       "  <tbody>\n",
       "    <tr>\n",
       "      <th>0</th>\n",
       "      <td>1</td>\n",
       "      <td>241</td>\n",
       "    </tr>\n",
       "    <tr>\n",
       "      <th>1</th>\n",
       "      <td>2</td>\n",
       "      <td>106</td>\n",
       "    </tr>\n",
       "    <tr>\n",
       "      <th>2</th>\n",
       "      <td>3</td>\n",
       "      <td>59</td>\n",
       "    </tr>\n",
       "    <tr>\n",
       "      <th>3</th>\n",
       "      <td>4</td>\n",
       "      <td>38</td>\n",
       "    </tr>\n",
       "    <tr>\n",
       "      <th>4</th>\n",
       "      <td>5</td>\n",
       "      <td>18</td>\n",
       "    </tr>\n",
       "    <tr>\n",
       "      <th>5</th>\n",
       "      <td>6</td>\n",
       "      <td>12</td>\n",
       "    </tr>\n",
       "    <tr>\n",
       "      <th>6</th>\n",
       "      <td>7</td>\n",
       "      <td>8</td>\n",
       "    </tr>\n",
       "    <tr>\n",
       "      <th>7</th>\n",
       "      <td>8</td>\n",
       "      <td>5</td>\n",
       "    </tr>\n",
       "    <tr>\n",
       "      <th>8</th>\n",
       "      <td>11</td>\n",
       "      <td>2</td>\n",
       "    </tr>\n",
       "    <tr>\n",
       "      <th>9</th>\n",
       "      <td>9</td>\n",
       "      <td>2</td>\n",
       "    </tr>\n",
       "    <tr>\n",
       "      <th>10</th>\n",
       "      <td>22</td>\n",
       "      <td>2</td>\n",
       "    </tr>\n",
       "    <tr>\n",
       "      <th>11</th>\n",
       "      <td>16</td>\n",
       "      <td>2</td>\n",
       "    </tr>\n",
       "    <tr>\n",
       "      <th>12</th>\n",
       "      <td>15</td>\n",
       "      <td>2</td>\n",
       "    </tr>\n",
       "    <tr>\n",
       "      <th>13</th>\n",
       "      <td>17</td>\n",
       "      <td>1</td>\n",
       "    </tr>\n",
       "    <tr>\n",
       "      <th>14</th>\n",
       "      <td>12</td>\n",
       "      <td>1</td>\n",
       "    </tr>\n",
       "    <tr>\n",
       "      <th>15</th>\n",
       "      <td>10</td>\n",
       "      <td>1</td>\n",
       "    </tr>\n",
       "    <tr>\n",
       "      <th>16</th>\n",
       "      <td>27</td>\n",
       "      <td>1</td>\n",
       "    </tr>\n",
       "    <tr>\n",
       "      <th>17</th>\n",
       "      <td>21</td>\n",
       "      <td>1</td>\n",
       "    </tr>\n",
       "    <tr>\n",
       "      <th>18</th>\n",
       "      <td>14</td>\n",
       "      <td>1</td>\n",
       "    </tr>\n",
       "    <tr>\n",
       "      <th>19</th>\n",
       "      <td>20</td>\n",
       "      <td>1</td>\n",
       "    </tr>\n",
       "    <tr>\n",
       "      <th>20</th>\n",
       "      <td>13</td>\n",
       "      <td>1</td>\n",
       "    </tr>\n",
       "  </tbody>\n",
       "</table>\n",
       "</div>"
      ],
      "text/plain": [
       "    PDB_Count  Protein_Count\n",
       "0           1            241\n",
       "1           2            106\n",
       "2           3             59\n",
       "3           4             38\n",
       "4           5             18\n",
       "5           6             12\n",
       "6           7              8\n",
       "7           8              5\n",
       "8          11              2\n",
       "9           9              2\n",
       "10         22              2\n",
       "11         16              2\n",
       "12         15              2\n",
       "13         17              1\n",
       "14         12              1\n",
       "15         10              1\n",
       "16         27              1\n",
       "17         21              1\n",
       "18         14              1\n",
       "19         20              1\n",
       "20         13              1"
      ]
     },
     "execution_count": 49,
     "metadata": {},
     "output_type": "execute_result"
    }
   ],
   "source": [
    "ext_pdb_counts_df"
   ]
  },
  {
   "cell_type": "code",
   "execution_count": 50,
   "id": "b3ed28a5",
   "metadata": {},
   "outputs": [
    {
     "data": {
      "image/png": "[encoded data removed]",
      "text/plain": [
       "<Figure size 800x600 with 1 Axes>"
      ]
     },
     "metadata": {},
     "output_type": "display_data"
    }
   ],
   "source": [
    "fig = figure(figsize = (8, 6))\n",
    "\n",
    "sns.barplot(data = ext_pdb_counts_df, x = 'PDB_Count', y = 'Protein_Count', palette = ['grey'])\n",
    "\n",
    "plt.ylabel('No. of Unique Proteins', size = 20)\n",
    "plt.xlabel('No. of Unique PDBs per Protein', size = 20)\n",
    "plt.xticks(size = 12, rotation = 25)\n",
    "plt.yticks(size = 15)\n",
    "\n",
    "plt.show()"
   ]
  },
  {
   "cell_type": "markdown",
   "id": "73aa59e3",
   "metadata": {},
   "source": [
    "# "
   ]
  },
  {
   "cell_type": "markdown",
   "id": "80bcdd54",
   "metadata": {},
   "source": [
    "# Number of Chains per PDB "
   ]
  },
  {
   "cell_type": "code",
   "execution_count": 51,
   "id": "f40b55f8",
   "metadata": {},
   "outputs": [],
   "source": [
    "nr_ext_pdb_chain_df = extreme_nr_df[['pdb', 'pdb_chainid_identifier']].drop_duplicates()\n",
    "nr_ext_pdb_chain_df['count'] = 1\n",
    "ext_pdb_chain_df = pd.DataFrame(nr_ext_pdb_chain_df.groupby(['pdb'])['count'].sum())"
   ]
  },
  {
   "cell_type": "code",
   "execution_count": 52,
   "id": "31c536cc",
   "metadata": {},
   "outputs": [],
   "source": [
    "ext_chain_counts = ext_pdb_chain_df['count'].value_counts().to_list()\n",
    "ext_pdb_counts = ext_pdb_chain_df['count'].value_counts().index.to_list()\n",
    "ext_chain_counts_df = pd.DataFrame()\n",
    "ext_chain_counts_df['Chain_Count'] = ext_pdb_counts\n",
    "ext_chain_counts_df['PDB_Count'] = ext_chain_counts"
   ]
  },
  {
   "cell_type": "code",
   "execution_count": 53,
   "id": "c9ea0fe8",
   "metadata": {},
   "outputs": [
    {
     "data": {
      "text/html": [
       "<div>\n",
       "<style scoped>\n",
       "    .dataframe tbody tr th:only-of-type {\n",
       "        vertical-align: middle;\n",
       "    }\n",
       "\n",
       "    .dataframe tbody tr th {\n",
       "        vertical-align: top;\n",
       "    }\n",
       "\n",
       "    .dataframe thead th {\n",
       "        text-align: right;\n",
       "    }\n",
       "</style>\n",
       "<table border=\"1\" class=\"dataframe\">\n",
       "  <thead>\n",
       "    <tr style=\"text-align: right;\">\n",
       "      <th></th>\n",
       "      <th>Chain_Count</th>\n",
       "      <th>PDB_Count</th>\n",
       "    </tr>\n",
       "  </thead>\n",
       "  <tbody>\n",
       "    <tr>\n",
       "      <th>0</th>\n",
       "      <td>1</td>\n",
       "      <td>1093</td>\n",
       "    </tr>\n",
       "    <tr>\n",
       "      <th>1</th>\n",
       "      <td>2</td>\n",
       "      <td>45</td>\n",
       "    </tr>\n",
       "    <tr>\n",
       "      <th>2</th>\n",
       "      <td>3</td>\n",
       "      <td>27</td>\n",
       "    </tr>\n",
       "    <tr>\n",
       "      <th>3</th>\n",
       "      <td>4</td>\n",
       "      <td>10</td>\n",
       "    </tr>\n",
       "    <tr>\n",
       "      <th>4</th>\n",
       "      <td>5</td>\n",
       "      <td>4</td>\n",
       "    </tr>\n",
       "  </tbody>\n",
       "</table>\n",
       "</div>"
      ],
      "text/plain": [
       "   Chain_Count  PDB_Count\n",
       "0            1       1093\n",
       "1            2         45\n",
       "2            3         27\n",
       "3            4         10\n",
       "4            5          4"
      ]
     },
     "execution_count": 53,
     "metadata": {},
     "output_type": "execute_result"
    }
   ],
   "source": [
    "ext_chain_counts_df"
   ]
  },
  {
   "cell_type": "code",
   "execution_count": 54,
   "id": "a965dd04",
   "metadata": {},
   "outputs": [
    {
     "data": {
      "image/png": "[encoded data removed]",
      "text/plain": [
       "<Figure size 800x600 with 1 Axes>"
      ]
     },
     "metadata": {},
     "output_type": "display_data"
    }
   ],
   "source": [
    "fig = figure(figsize = (8, 6))\n",
    "\n",
    "sns.barplot(data = ext_chain_counts_df, y = 'PDB_Count', x = 'Chain_Count', palette = ['grey'])\n",
    "\n",
    "plt.ylabel('No. of Unique PDBs', size = 20)\n",
    "plt.xlabel('No. of Unique Chains per PDB', size = 20)\n",
    "\n",
    "plt.xticks(size = 12, rotation = 25)\n",
    "plt.yticks(size = 15)\n",
    "\n",
    "plt.show()"
   ]
  },
  {
   "cell_type": "markdown",
   "id": "f473fa8d",
   "metadata": {},
   "source": [
    "# "
   ]
  },
  {
   "cell_type": "markdown",
   "id": "fecfff7f",
   "metadata": {},
   "source": [
    "# PDB Experimental Method per Reactivity "
   ]
  },
  {
   "cell_type": "code",
   "execution_count": 55,
   "id": "6018bf3f",
   "metadata": {},
   "outputs": [],
   "source": [
    "ts_method_df = extreme_nr_df[['pdb', 'experiment', 'reactivity']].drop_duplicates()"
   ]
  },
  {
   "cell_type": "code",
   "execution_count": 56,
   "id": "33602682",
   "metadata": {},
   "outputs": [
    {
     "data": {
      "text/html": [
       "<div>\n",
       "<style scoped>\n",
       "    .dataframe tbody tr th:only-of-type {\n",
       "        vertical-align: middle;\n",
       "    }\n",
       "\n",
       "    .dataframe tbody tr th {\n",
       "        vertical-align: top;\n",
       "    }\n",
       "\n",
       "    .dataframe thead th {\n",
       "        text-align: right;\n",
       "    }\n",
       "</style>\n",
       "<table border=\"1\" class=\"dataframe\">\n",
       "  <thead>\n",
       "    <tr style=\"text-align: right;\">\n",
       "      <th></th>\n",
       "      <th>Method_Count</th>\n",
       "      <th>Method_Type</th>\n",
       "    </tr>\n",
       "  </thead>\n",
       "  <tbody>\n",
       "    <tr>\n",
       "      <th>0</th>\n",
       "      <td>458</td>\n",
       "      <td>X-RAY DIFFRACTION</td>\n",
       "    </tr>\n",
       "    <tr>\n",
       "      <th>1</th>\n",
       "      <td>141</td>\n",
       "      <td>ELECTRON MICROSCOPY</td>\n",
       "    </tr>\n",
       "    <tr>\n",
       "      <th>2</th>\n",
       "      <td>45</td>\n",
       "      <td>SOLUTION NMR</td>\n",
       "    </tr>\n",
       "  </tbody>\n",
       "</table>\n",
       "</div>"
      ],
      "text/plain": [
       "   Method_Count          Method_Type\n",
       "0           458    X-RAY DIFFRACTION\n",
       "1           141  ELECTRON MICROSCOPY\n",
       "2            45         SOLUTION NMR"
      ]
     },
     "execution_count": 56,
     "metadata": {},
     "output_type": "execute_result"
    }
   ],
   "source": [
    "h_method_df = ts_method_df[ts_method_df['reactivity'] == 'High']\n",
    "h_method_counts = h_method_df['experiment'].value_counts().to_list()\n",
    "h_method_ids = h_method_df['experiment'].value_counts().index.to_list()\n",
    "h_method_counts_df = pd.DataFrame()\n",
    "h_method_counts_df['Method_Count'] = h_method_counts\n",
    "h_method_counts_df['Method_Type'] = h_method_ids\n",
    "h_method_counts_df"
   ]
  },
  {
   "cell_type": "code",
   "execution_count": 57,
   "id": "78c1a00b",
   "metadata": {},
   "outputs": [
    {
     "data": {
      "text/html": [
       "<div>\n",
       "<style scoped>\n",
       "    .dataframe tbody tr th:only-of-type {\n",
       "        vertical-align: middle;\n",
       "    }\n",
       "\n",
       "    .dataframe tbody tr th {\n",
       "        vertical-align: top;\n",
       "    }\n",
       "\n",
       "    .dataframe thead th {\n",
       "        text-align: right;\n",
       "    }\n",
       "</style>\n",
       "<table border=\"1\" class=\"dataframe\">\n",
       "  <thead>\n",
       "    <tr style=\"text-align: right;\">\n",
       "      <th></th>\n",
       "      <th>Method_Count</th>\n",
       "      <th>Method_Type</th>\n",
       "    </tr>\n",
       "  </thead>\n",
       "  <tbody>\n",
       "    <tr>\n",
       "      <th>0</th>\n",
       "      <td>494</td>\n",
       "      <td>X-RAY DIFFRACTION</td>\n",
       "    </tr>\n",
       "    <tr>\n",
       "      <th>1</th>\n",
       "      <td>121</td>\n",
       "      <td>ELECTRON MICROSCOPY</td>\n",
       "    </tr>\n",
       "    <tr>\n",
       "      <th>2</th>\n",
       "      <td>47</td>\n",
       "      <td>SOLUTION NMR</td>\n",
       "    </tr>\n",
       "  </tbody>\n",
       "</table>\n",
       "</div>"
      ],
      "text/plain": [
       "   Method_Count          Method_Type\n",
       "0           494    X-RAY DIFFRACTION\n",
       "1           121  ELECTRON MICROSCOPY\n",
       "2            47         SOLUTION NMR"
      ]
     },
     "execution_count": 57,
     "metadata": {},
     "output_type": "execute_result"
    }
   ],
   "source": [
    "l_method_df = ts_method_df[ts_method_df['reactivity'] == 'Low']\n",
    "l_method_counts = l_method_df['experiment'].value_counts().to_list()\n",
    "l_method_ids = l_method_df['experiment'].value_counts().index.to_list()\n",
    "l_method_counts_df = pd.DataFrame()\n",
    "l_method_counts_df['Method_Count'] = l_method_counts\n",
    "l_method_counts_df['Method_Type'] = l_method_ids\n",
    "l_method_counts_df"
   ]
  },
  {
   "cell_type": "code",
   "execution_count": 58,
   "id": "7cc6b6d4",
   "metadata": {},
   "outputs": [],
   "source": [
    "ts_method_counts_df = pd.DataFrame()\n",
    "ts_method_counts_df['Method_Count'] = h_method_counts + l_method_counts\n",
    "ts_method_counts_df['Method_Type'] = h_method_ids + l_method_ids\n",
    "ts_method_counts_df['Reactivity'] = ['High', 'High', 'High', 'Low', 'Low', 'Low']\n",
    "ts_method_counts_df['Exp_Method'] = ['X-RAY', 'EM', \"NMR\", 'X-RAY', 'EM', \"NMR\"]"
   ]
  },
  {
   "cell_type": "code",
   "execution_count": 59,
   "id": "163dab85",
   "metadata": {},
   "outputs": [
    {
     "data": {
      "image/png": "[encoded data removed]",
      "text/plain": [
       "<Figure size 800x600 with 1 Axes>"
      ]
     },
     "metadata": {},
     "output_type": "display_data"
    }
   ],
   "source": [
    "fig = figure(figsize = (8, 6))\n",
    "\n",
    "sns.barplot(data = ts_method_counts_df, x = 'Method_Count', y = 'Exp_Method', hue = 'Reactivity', palette = {\n",
    "        'High': '#dd0426',\n",
    "        'Low': '#449dd1'\n",
    "    })\n",
    "\n",
    "plt.ylabel('', size = 20)\n",
    "plt.xlabel('No. of Unique PDBs', size = 20)\n",
    "plt.xticks(size = 15)\n",
    "plt.yticks(size = 20)\n",
    "\n",
    "plt.legend(frameon = False, fontsize=20, title = 'Reactivity', title_fontsize = 20)\n",
    "\n",
    "plt.show()"
   ]
  },
  {
   "cell_type": "markdown",
   "id": "e9242153",
   "metadata": {},
   "source": [
    "# "
   ]
  },
  {
   "cell_type": "markdown",
   "id": "af6aedd9",
   "metadata": {},
   "source": [
    "# Number of PDBs per Meric State "
   ]
  },
  {
   "cell_type": "code",
   "execution_count": 60,
   "id": "c0d407a0",
   "metadata": {},
   "outputs": [
    {
     "data": {
      "image/png": "[encoded data removed]",
      "text/plain": [
       "<Figure size 800x600 with 1 Axes>"
      ]
     },
     "metadata": {},
     "output_type": "display_data"
    }
   ],
   "source": [
    "fig = figure(figsize = (8, 6))\n",
    "\n",
    "sns.countplot(data = meric_state, y=\"unit\", hue = 'reactivity',\n",
    "              order = ['MONOMERIC', 'DIMERIC', 'MULTIMERIC', 'NA'],\n",
    "             palette = {\n",
    "                        'High': '#dd0426',\n",
    "                        'Low': '#449dd1'\n",
    "             })\n",
    "\n",
    "plt.ylabel('', size = 20)\n",
    "plt.xlabel('No. of Unique PDBs', size = 20)\n",
    "plt.xticks(size = 15)\n",
    "plt.yticks(size = 20)\n",
    "\n",
    "plt.legend(frameon = False, fontsize=20, title = 'Reactivity', title_fontsize = 20)\n",
    "\n",
    "plt.show()"
   ]
  },
  {
   "cell_type": "code",
   "execution_count": null,
   "id": "acce238d-1df8-4e0c-a6fc-a975b2ddcb59",
   "metadata": {},
   "outputs": [],
   "source": []
  }
 ],
 "metadata": {
  "kernelspec": {
   "display_name": "Python 3 (ipykernel)",
   "language": "python",
   "name": "python3"
  },
  "language_info": {
   "codemirror_mode": {
    "name": "ipython",
    "version": 3
   },
   "file_extension": ".py",
   "mimetype": "text/x-python",
   "name": "python",
   "nbconvert_exporter": "python",
   "pygments_lexer": "ipython3",
   "version": "3.12.4"
  }
 },
 "nbformat": 4,
 "nbformat_minor": 5
}
